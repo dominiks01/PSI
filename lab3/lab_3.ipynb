{
   "cells": [
      {
         "cell_type": "markdown",
         "metadata": {},
         "source": [
            "# Sieci neuronowe"
         ]
      },
      {
         "cell_type": "markdown",
         "metadata": {},
         "source": [
            "## Wstęp\n",
            "\n",
            "Celem laboratorium jest zapoznanie się z podstawami sieci neuronowych oraz uczeniem głębokim (*deep learning*). Zapoznasz się na nim z następującymi tematami:\n",
            "- treningiem prostych sieci neuronowych, w szczególności z:\n",
            "  - regresją liniową w sieciach neuronowych\n",
            "  - optymalizacją funkcji kosztu\n",
            "  - algorytmem spadku wzdłuż gradientu\n",
            "  - siecią typu Multilayer Perceptron (MLP)\n",
            "- frameworkiem PyTorch, w szczególności z:\n",
            "  - ładowaniem danych\n",
            "  - preprocessingiem danych\n",
            "  - pisaniem pętli treningowej i walidacyjnej\n",
            "  - walidacją modeli\n",
            "- architekturą i hiperaprametrami sieci MLP, w szczególności z:\n",
            "  - warstwami gęstymi (w pełni połączonymi)\n",
            "  - funkcjami aktywacji\n",
            "  - regularyzacją: L2, dropout"
         ]
      },
      {
         "cell_type": "markdown",
         "metadata": {},
         "source": [
            "## Wykorzystywane biblioteki\n",
            "\n",
            "Zaczniemy od pisania ręcznie prostych sieci w bibliotece Numpy, służącej do obliczeń numerycznych na CPU. Później przejdziemy do wykorzystywania frameworka PyTorch, służącego do obliczeń numerycznych na CPU, GPU oraz automatycznego różniczkowania, wykorzystywanego głównie do treningu sieci neuronowych.\n",
            "\n",
            "Wykorzystamy PyTorcha ze względu na popularność, łatwość instalacji i użycia, oraz dużą kontrolę nad niskopoziomowymi aspektami budowy i treningu sieci neuronowych. Framework ten został stworzony do zastosowań badawczych i naukowych, ale ze względu na wygodę użycia stał się bardzo popularny także w przemyśle. W szczególności całkowicie zdominował przetwarzanie języka naturalnego (NLP) oraz uczenie na grafach.\n",
            "\n",
            "Pierwszy duży framework do deep learningu, oraz obecnie najpopularniejszy, to TensorFlow, wraz z wysokopoziomową nakładką Keras. Są jednak szanse, że Google (autorzy) będzie go powoli porzucać na rzecz ich nowego frameworka JAX ([dyskusja](https://www.reddit.com/r/MachineLearning/comments/vfl57t/d_google_quietly_moving_its_products_from/), [artykuł Business Insidera](https://www.businessinsider.com/facebook-pytorch-beat-google-tensorflow-jax-meta-ai-2022-6?IR=T)), który jest bardzo świeżym, ale ciekawym narzędziem.\n",
            "\n",
            "Trzecia, ale znacznie mniej popularna od powyższych opcja to Apache MXNet."
         ]
      },
      {
         "cell_type": "markdown",
         "metadata": {},
         "source": [
            "## Konfiguracja własnego komputera\n",
            "\n",
            "Jeżeli korzystasz z własnego komputera, to musisz zainstalować trochę więcej bibliotek (Google Colab ma je już zainstalowane).\n",
            "\n",
            "Jeżeli nie masz GPU lub nie chcesz z niego korzystać, to wystarczy znaleźć odpowiednią komendę CPU [na stronie PyTorcha](https://pytorch.org/get-started/locally/). Dla Anacondy odpowiednia komenda została podana poniżej, dla pip'a znajdź ją na stronie.\n",
            "\n",
            "Jeżeli chcesz korzystać ze wsparcia GPU (na tym laboratorium nie będzie potrzebne, na kolejnych może przyspieszyć nieco obliczenia), to musi być to odpowiednio nowa karta NVidii, mająca CUDA compatibility ([lista](https://developer.nvidia.com/cuda-gpus)). Poza PyTorchem będzie potrzebne narzędzie NVidia CUDA w wersji 11.6 lub 11.7. Instalacja na Windowsie jest bardzo prosta (wystarczy ściągnąć plik EXE i zainstalować jak każdy inny program). Instalacja na Linuxie jest trudna i można względnie łatwo zepsuć sobie system, ale jeżeli chcesz spróbować, to [ten tutorial](https://www.youtube.com/results?search_query=nvidia+cuda+install+ubuntu+20.04) jest bardzo dobry."
         ]
      },
      {
         "cell_type": "code",
         "execution_count": 61,
         "metadata": {},
         "outputs": [],
         "source": [
            "# for conda users\n",
            "# !conda install -y matplotlib pandas pytorch torchvision -c pytorch -c conda-forge"
         ]
      },
      {
         "cell_type": "markdown",
         "metadata": {
            "id": "Othm3C2lLAsj"
         },
         "source": [
            "## Wprowadzenie\n",
            "\n",
            "Zanim zaczniemy naszą przygodę z sieciami neuronowymi, przyjrzyjmy się prostemu przykładowi regresji liniowej na syntetycznych danych:"
         ]
      },
      {
         "cell_type": "code",
         "execution_count": 62,
         "metadata": {
            "id": "rnJsfxbnLAsj"
         },
         "outputs": [],
         "source": [
            "from typing import Tuple, Dict\n",
            "\n",
            "import numpy as np\n",
            "import matplotlib.pyplot as plt"
         ]
      },
      {
         "cell_type": "code",
         "execution_count": 63,
         "metadata": {
            "colab": {
               "base_uri": "https://localhost:8080/",
               "height": 282
            },
            "id": "EaYpEXzBLAsl",
            "outputId": "2f8d2922-72f0-4d38-8548-d1262adf522e"
         },
         "outputs": [
            {
               "data": {
                  "text/plain": [
                     "<matplotlib.collections.PathCollection at 0x7fa831c63880>"
                  ]
               },
               "execution_count": 63,
               "metadata": {},
               "output_type": "execute_result"
            },
            {
               "data": {
                  "image/png": "[encoded data removed]",
                  "text/plain": [
                     "<Figure size 640x480 with 1 Axes>"
                  ]
               },
               "metadata": {},
               "output_type": "display_data"
            }
         ],
         "source": [
            "np.random.seed(0)\n",
            "\n",
            "x = np.linspace(0, 1, 100)\n",
            "y = x + np.random.normal(scale=0.1, size=x.shape)\n",
            "\n",
            "plt.scatter(x, y)"
         ]
      },
      {
         "cell_type": "markdown",
         "metadata": {
            "id": "PEM_-yKELAsl"
         },
         "source": [
            "W przeciwieństwie do laboratorium 1, tym razem będziemy chcieli rozwiązać ten problem własnoręcznie, bez użycia wysokopoziomowego interfejsu Scikit-learn'a. W tym celu musimy sobie przypomnieć sformułowanie naszego **problemu optymalizacyjnego (optimization problem)**.\n",
            "\n",
            "W przypadku prostej regresji liniowej (1 zmienna) mamy model postaci $\\hat{y} = \\alpha x + \\beta$, z dwoma parametrami, których będziemy się uczyć. Miarą niedopasowania modelu o danych parametrach jest **funkcja kosztu (cost function)**, nazywana też funkcją celu. Najczęściej używa się **błędu średniokwadratowego (mean squared error, MSE)**:\n",
            "$$\\large\n",
            "MSE = \\frac{1}{N} \\sum_{i}^{N} (y - \\hat{y})^2\n",
            "$$\n",
            "\n",
            "Od jakich $\\alpha$ i $\\beta$ zacząć? W najprostszym wypadku wystarczy po prostu je wylosować jako niewielkie liczby zmiennoprzecinkowe.\n",
            "\n",
            "#### Zadanie 1 (0.5 punkt)\n",
            "\n",
            "Uzupełnij kod funkcji `mse`, obliczającej błąd średniokwadratowy. Wykorzystaj Numpy'a w celu wektoryzacji obliczeń dla wydajności."
         ]
      },
      {
         "cell_type": "code",
         "execution_count": 64,
         "metadata": {
            "colab": {
               "base_uri": "https://localhost:8080/"
            },
            "id": "RaA7Q46TLAsm",
            "outputId": "5c57fe58-1934-4d21-9a7b-d14e9a23140b"
         },
         "outputs": [],
         "source": [
            "def mse(y: np.ndarray, y_hat: np.ndarray) -> float:\n",
            "    return np.square(np.subtract(y, y_hat)).mean()"
         ]
      },
      {
         "cell_type": "code",
         "execution_count": 65,
         "metadata": {
            "colab": {
               "base_uri": "https://localhost:8080/",
               "height": 282
            },
            "id": "qSGfamGbLAsm",
            "outputId": "733ce15f-ae75-466b-e7ee-eb3c9d9d534c"
         },
         "outputs": [
            {
               "name": "stdout",
               "output_type": "stream",
               "text": [
                  "MSE: 0.133\n"
               ]
            },
            {
               "data": {
                  "text/plain": [
                     "[<matplotlib.lines.Line2D at 0x7fa831cbb5e0>]"
                  ]
               },
               "execution_count": 65,
               "metadata": {},
               "output_type": "execute_result"
            },
            {
               "data": {
                  "image/png": "[encoded data removed]",
                  "text/plain": [
                     "<Figure size 640x480 with 1 Axes>"
                  ]
               },
               "metadata": {},
               "output_type": "display_data"
            }
         ],
         "source": [
            "a = np.random.rand()\n",
            "b = np.random.rand()\n",
            "print(f\"MSE: {mse(y, a * x + b):.3f}\")\n",
            "\n",
            "plt.scatter(x, y)\n",
            "plt.plot(x, a * x + b, color=\"g\", linewidth=4)"
         ]
      },
      {
         "cell_type": "markdown",
         "metadata": {
            "id": "Y--E9Mp9LAsn"
         },
         "source": [
            "Losowe parametry radzą sobie nie najlepiej. Jak lepiej dopasować naszą prostą do danych? Zawsze możemy starać się wyprowadzić rozwiązanie analitycznie, i w tym wypadku nawet nam się uda. Jest to jednak szczególny i dość rzadki przypadek, a w szczególności nie będzie to możliwe w większych sieciach neuronowych.\n",
            "\n",
            "Potrzebna nam będzie **metoda optymalizacji (optimization method)**, dającą wartości parametrów minimalizujące dowolną różniczkowalną funkcję kosztu. Zdecydowanie najpopularniejszy jest tutaj **spadek wzdłuż gradientu (gradient descent)**.\n",
            "\n",
            "Metoda ta wywodzi się z prostych obserwacji, które tutaj przedstawimy. Bardziej szczegółowe rozwinięcie dla zainteresowanych: [sekcja 4.3 \"Deep Learning Book\"](https://www.deeplearningbook.org/contents/numerical.html), [ten praktyczny kurs](https://cs231n.github.io/optimization-1/), [analiza oryginalnej publikacji Cauchy'ego](https://www.math.uni-bielefeld.de/documenta/vol-ismp/40_lemarechal-claude.pdf) (oryginał w języku francuskim).\n",
            "\n",
            "Pochodna jest dokładnie równa granicy funkcji. Dla małego $\\epsilon$ można ją przybliżyć jako:\n",
            "$$\\large\n",
            "\\frac{f(x)}{dx} \\approx \\frac{f(x+\\epsilon) - f(x)}{\\epsilon}\n",
            "$$\n",
            "\n",
            "Przyglądając się temu równaniu widzimy, że: \n",
            "* dla funkcji rosnącej ($f(x+\\epsilon) > f(x)$) wyrażenie $\\frac{f(x)}{dx}$ będzie miało znak dodatni \n",
            "* dla funkcji malejącej ($f(x+\\epsilon) < f(x)$) wyrażenie $\\frac{f(x)}{dx}$ będzie miało znak ujemny \n",
            "\n",
            "Widzimy więc, że potrafimy wskazać kierunek zmniejszenia wartości funkcji, patrząc na znak pochodnej. Zaobserwowano także, że amplituda wartości w $\\frac{f(x)}{dx}$ jest tym większa, im dalej jesteśmy od minimum (maximum). Pochodna wyznacza więc, w jakim kierunku funkcja najszybciej rośnie, zaś przeciwny zwrot to ten, w którym funkcja najszybciej spada.\n",
            "\n",
            "Stosując powyższe do optymalizacji, mamy:\n",
            "$$\\large\n",
            "x_{t+1} = x_{t} -  \\alpha * \\frac{f(x)}{dx}\n",
            "$$\n",
            "\n",
            "$\\alpha$ to niewielka wartość (rzędu zwykle $10^{-5}$ - $10^{-2}$), wprowadzona, aby trzymać się założenia o małej zmianie parametrów ($\\epsilon$). Nazywa się ją **stałą uczącą (learning rate)** i jest zwykle najważniejszym hiperparametrem podczas nauki sieci.\n",
            "\n",
            "Metoda ta zakłada, że używamy całego zbioru danych do aktualizacji parametrów w każdym kroku, co nazywa się po prostu GD (od *gradient descent*) albo *full batch GD*. Wtedy każdy krok optymalizacji nazywa się **epoką (epoch)**.\n",
            "\n",
            "Im większa stała ucząca, tym większe nasze kroki podczas minimalizacji. Możemy więc uczyć szybciej, ale istnieje ryzyko, że będziemy \"przeskakiwać\" minima. Mniejsza stała ucząca to wolniejszy, ale dokładniejszy trening. Jednak nie zawsze ona pozwala osiągnąć lepsze wyniki, bo może okazać się, że utkniemy w minimum lokalnym. Można także zmieniać stałą uczącą podczas treningu, co nazywa się **learning rate scheduling (LR scheduling)**. Obrazowo:\n",
            "\n",
            "![learning_rate](http://www.bdhammel.com/assets/learning-rate/lr-types.png)"
         ]
      },
      {
         "cell_type": "markdown",
         "metadata": {
            "id": "496qEjkVLAso"
         },
         "source": [
            "![interactive LR](http://cdn-images-1.medium.com/max/640/1*eeIvlwkMNG1wSmj3FR6M2g.gif)"
         ]
      },
      {
         "cell_type": "markdown",
         "metadata": {
            "id": "RYkyAHKzLAsp"
         },
         "source": [
            "Policzmy więc pochodną dla naszej funkcji kosztu MSE. Pochodną liczymy po parametrach naszego modelu, bo to właśnie ich chcemy dopasować tak, żeby koszt był jak najmniejszy:\n",
            "\n",
            "$$\\large\n",
            "MSE = \\frac{1}{N} \\sum_{i}^{N} (y_i - \\hat{y_i})^2\n",
            "$$\n",
            "\n",
            "W powyższym wzorze tylko $y_i$ jest zależny od $a$ oraz $b$. Możemy wykorzystać tu regułę łańcuchową (*chain rule*) i policzyć pochodne po naszych parametrach w sposób następujący:\n",
            "\n",
            "$$\\large\n",
            "\\frac{\\text{d} MSE}{\\text{d} a} = \\frac{1}{N} \\sum_{i}^{N} \\frac{\\text{d} (y_i - \\hat{y_i})^2}{\\text{d} \\hat{y_i}} \\frac{\\text{d} \\hat{y_i}}{\\text{d} a}\n",
            "$$\n",
            "\n",
            "$$\\large\n",
            "\\frac{\\text{d} MSE}{\\text{d} b} = \\frac{1}{N} \\sum_{i}^{N} \\frac{\\text{d} (y_i - \\hat{y_i})^2}{\\text{d} \\hat{y_i}} \\frac{\\text{d} \\hat{y_i}}{\\text{d} b}\n",
            "$$\n",
            "\n",
            "Policzmy te pochodne po kolei:\n",
            "\n",
            "$$\\large\n",
            "\\frac{\\text{d} (y_i - \\hat{y_i})^2}{\\text{d} \\hat{y_i}} = -2 \\cdot (y_i - \\hat{y_i})\n",
            "$$\n",
            "\n",
            "$$\\large\n",
            "\\frac{\\text{d} \\hat{y_i}}{\\text{d} a} = x_i\n",
            "$$\n",
            "\n",
            "$$\\large\n",
            "\\frac{\\text{d} \\hat{y_i}}{\\text{d} b} = 1\n",
            "$$\n",
            "\n",
            "Łącząc powyższe wyniki dostaniemy:\n",
            "\n",
            "$$\\large\n",
            "\\frac{\\text{d} MSE}{\\text{d} a} = \\frac{-2}{N} \\sum_{i}^{N} (y_i - \\hat{y_i}) \\cdot {x_i}\n",
            "$$\n",
            "\n",
            "$$\\large\n",
            "\\frac{\\text{d} MSE}{\\text{d} b} = \\frac{-2}{N} \\sum_{i}^{N} (y_i - \\hat{y_i})\n",
            "$$\n",
            "\n",
            "Aktualizacja parametrów wygląda tak:\n",
            "\n",
            "$$\\large\n",
            "a' = a - \\alpha * \\left( \\frac{-2}{N} \\sum_{i=1}^N (y_i - \\hat{y}_i) \\cdot x_i \\right)\n",
            "$$\n",
            "$$\\large\n",
            "b' = b - \\alpha * \\left( \\frac{-2}{N} \\sum_{i=1}^N (y_i - \\hat{y}_i) \\right)\n",
            "$$\n",
            "\n",
            "Liczymy więc pochodną funkcji kosztu, a potem za pomocą reguły łańcuchowej \"cofamy się\", dochodząc do tego, jak każdy z parametrów wpływa na błąd i w jaki sposób powinniśmy go zmienić. Nazywa się to **propagacją wsteczną (backpropagation)** i jest podstawowym mechanizmem umożliwiającym naukę sieci neuronowych za pomocą spadku wzdłuż gradientu. Więcej możesz o tym przeczytać [tutaj](https://cs231n.github.io/optimization-2/)."
         ]
      },
      {
         "cell_type": "markdown",
         "metadata": {},
         "source": [
            "\n",
            "#### Zadanie 2 (1.0 punkt)\n",
            "\n",
            "Zaimplementuj funkcję realizującą jedną epokę treningową. Zauważ, że `x` oraz `y` są wektorami. Oblicz predykcję przy aktualnych parametrach oraz zaktualizuj je zgodnie z powyższymi wzorami."
         ]
      },
      {
         "cell_type": "code",
         "execution_count": 66,
         "metadata": {
            "colab": {
               "base_uri": "https://localhost:8080/"
            },
            "id": "4qbdWOSULAsp",
            "outputId": "055607ae-87aa-470a-e6da-25682c82d470"
         },
         "outputs": [],
         "source": [
            "def optimize(\n",
            "    x: np.ndarray, y: np.ndarray, a: float, b: float, learning_rate: float = 0.1\n",
            "):\n",
            "    y_hat = a * x + b\n",
            "    errors = y - y_hat\n",
            "    new_a = a + learning_rate *(2*x * errors).mean() \n",
            "    new_b = b + learning_rate *(2* errors).mean()\n",
            "\n",
            "    return new_a, new_b"
         ]
      },
      {
         "cell_type": "code",
         "execution_count": 67,
         "metadata": {},
         "outputs": [
            {
               "name": "stdout",
               "output_type": "stream",
               "text": [
                  "step 0 loss:  0.1330225119404028\n",
                  "step 100 loss:  0.012673197778527677\n",
                  "step 200 loss:  0.010257153540857817\n",
                  "step 300 loss:  0.0100948037549359\n",
                  "step 400 loss:  0.010083894412889118\n",
                  "step 500 loss:  0.010083161342973332\n",
                  "step 600 loss:  0.010083112083219709\n",
                  "step 700 loss:  0.010083108773135261\n",
                  "step 800 loss:  0.010083108550709076\n",
                  "step 900 loss:  0.01008310853576281\n",
                  "final loss: 0.010083108534760455\n"
               ]
            }
         ],
         "source": [
            "for i in range(1000):\n",
            "    loss = mse(y, a * x + b)\n",
            "    a, b = optimize(x, y, a, b)\n",
            "    if i % 100 == 0:\n",
            "        print(f\"step {i} loss: \", loss)\n",
            "\n",
            "print(\"final loss:\", loss)"
         ]
      },
      {
         "cell_type": "code",
         "execution_count": 68,
         "metadata": {
            "colab": {
               "base_uri": "https://localhost:8080/",
               "height": 282
            },
            "id": "xOgRcPC1LAsq",
            "outputId": "85b0b3e4-aa0d-467a-d8ff-5f01be17b243",
            "scrolled": false
         },
         "outputs": [
            {
               "data": {
                  "text/plain": [
                     "[<matplotlib.lines.Line2D at 0x7fa831d22a70>]"
                  ]
               },
               "execution_count": 68,
               "metadata": {},
               "output_type": "execute_result"
            },
            {
               "data": {
                  "image/png": "[encoded data removed]",
                  "text/plain": [
                     "<Figure size 640x480 with 1 Axes>"
                  ]
               },
               "metadata": {},
               "output_type": "display_data"
            }
         ],
         "source": [
            "plt.scatter(x, y)\n",
            "plt.plot(x, a * x + b, color=\"g\", linewidth=4)"
         ]
      },
      {
         "cell_type": "markdown",
         "metadata": {
            "id": "vOr2fWYpLAsq"
         },
         "source": [
            "Udało ci się wytrenować swoją pierwszą sieć neuronową. Czemu? Otóż neuron to po prostu wektor parametrów, a zwykle robimy iloczyn skalarny tych parametrów z wejściem. Dodatkowo na wyjście nakłada się **funkcję aktywacji (activation function)**, która przekształca wyjście. Tutaj takiej nie było, a właściwie była to po prostu funkcja identyczności.\n",
            "\n",
            "Oczywiście w praktyce korzystamy z odpowiedniego frameworka, który w szczególności:\n",
            "- ułatwia budowanie sieci, np. ma gotowe klasy dla warstw neuronów\n",
            "- ma zaimplementowane funkcje kosztu oraz ich pochodne\n",
            "- sam różniczkuje ze względu na odpowiednie parametry i aktualizuje je odpowiednio podczas treningu\n"
         ]
      },
      {
         "cell_type": "markdown",
         "metadata": {
            "id": "NJBYJabuLAsr"
         },
         "source": [
            "## Wprowadzenie do PyTorcha"
         ]
      },
      {
         "cell_type": "markdown",
         "metadata": {
            "id": "EB-99XqhLAsr"
         },
         "source": [
            "PyTorch to w gruncie rzeczy narzędzie do algebry liniowej z [automatycznym rożniczkowaniem](https://pytorch.org/tutorials/beginner/blitz/autograd_tutorial.html), z możliwością przyspieszenia obliczeń z pomocą GPU. Na tych fundamentach zbudowany jest pełny framework do uczenia głębokiego. Można spotkać się ze stwierdzenie, że PyTorch to NumPy + GPU + opcjonalne różniczkowanie, co jest całkiem celne. Plus można łatwo debugować printem :)\n",
            "\n",
            "PyTorch używa dynamicznego grafu obliczeń, który sami definiujemy w kodzie. Takie podejście jest bardzo wygodne, elastyczne i pozwala na łatwe eksperymentowanie. Odbywa się to potencjalnie kosztem wydajności, ponieważ pozostawia kwestię optymalizacji programiście. Więcej na ten temat dla zainteresowanych na końcu laboratorium.\n",
            "\n",
            "Samo API PyTorcha bardzo przypomina Numpy'a, a podstawowym obiektem jest `Tensor`, klasa reprezentująca tensory dowolnego wymiaru. Dodatkowo niektóre tensory będą miały automatycznie obliczony gradient. Co ważne, tensor jest na pewnym urządzeniu, CPU lub GPU, a przenosić między nimi trzeba explicite.\n",
            "\n",
            "Najważniejsze moduły:\n",
            "- `torch` - podstawowe klasy oraz funkcje, np. `Tensor`, `from_numpy()`\n",
            "- `torch.nn` - klasy związane z sieciami neuronowymi, np. `Linear`, `Sigmoid`\n",
            "- `torch.optim` - wszystko związane z optymalizacją, głównie spadkiem wzdłuż gradientu"
         ]
      },
      {
         "cell_type": "code",
         "execution_count": 69,
         "metadata": {
            "id": "FwuIt8S-LAss"
         },
         "outputs": [],
         "source": [
            "import torch\n",
            "import torch.nn as nn\n",
            "import torch.optim as optim"
         ]
      },
      {
         "cell_type": "code",
         "execution_count": 70,
         "metadata": {
            "colab": {
               "base_uri": "https://localhost:8080/"
            },
            "id": "bfCiUFXULAss",
            "outputId": "83f6231d-ecc4-461a-b758-fdc4bc2a88a4"
         },
         "outputs": [
            {
               "name": "stdout",
               "output_type": "stream",
               "text": [
                  "tensor([1.5850, 1.0191, 1.8640, 1.9008, 1.4776, 1.1247, 1.3983, 1.6774, 1.9881,\n",
                  "        1.2879])\n",
                  "tensor([0.5850, 0.0191, 0.8640, 0.9008, 0.4776, 0.1247, 0.3983, 0.6774, 0.9881,\n",
                  "        0.2879])\n",
                  "tensor(5.3228)\n"
               ]
            }
         ],
         "source": [
            "ones = torch.ones(10)\n",
            "noise = torch.ones(10) * torch.rand(10)\n",
            "\n",
            "# elementwise sum\n",
            "print(ones + noise)\n",
            "\n",
            "# elementwise multiplication\n",
            "print(ones * noise)\n",
            "\n",
            "# dot product\n",
            "print(ones @ noise)"
         ]
      },
      {
         "cell_type": "code",
         "execution_count": 71,
         "metadata": {
            "id": "ynNd_kD0LAst"
         },
         "outputs": [],
         "source": [
            "# beware - shares memory with original Numpy array!\n",
            "# very fast, but modifications are visible to original variable\n",
            "x = torch.from_numpy(x)\n",
            "y = torch.from_numpy(y)"
         ]
      },
      {
         "cell_type": "markdown",
         "metadata": {
            "id": "W9kkxczELAsu"
         },
         "source": [
            "Jeżeli dla stworzonych przez nas tensorów chcemy śledzić operacje i obliczać gradient, to musimy oznaczyć `requires_grad=True`."
         ]
      },
      {
         "cell_type": "code",
         "execution_count": 72,
         "metadata": {
            "colab": {
               "base_uri": "https://localhost:8080/"
            },
            "id": "8HtZL-KfLAsu",
            "outputId": "47c6d930-5678-452a-95bc-227935138b40"
         },
         "outputs": [
            {
               "data": {
                  "text/plain": [
                     "(tensor([0.5376], requires_grad=True), tensor([0.5757], requires_grad=True))"
                  ]
               },
               "execution_count": 72,
               "metadata": {},
               "output_type": "execute_result"
            }
         ],
         "source": [
            "a = torch.rand(1, requires_grad=True)\n",
            "b = torch.rand(1, requires_grad=True)\n",
            "a, b"
         ]
      },
      {
         "cell_type": "markdown",
         "metadata": {
            "id": "Nl1guWZ_LAsv"
         },
         "source": [
            "PyTorch zawiera większość powszechnie używanych funkcji kosztu, np. MSE. Mogą być one używane na 2 sposoby, z czego pierwszy jest popularniejszy:\n",
            "- jako klasy wywoływalne z modułu `torch.nn`\n",
            "- jako funkcje z modułu `torch.nn.functional`\n",
            "\n",
            "Po wykonaniu poniższego kodu widzimy, że zwraca on nam tensor z dodatkowymi atrybutami. Co ważne, jest to skalar (0-wymiarowy tensor), bo potrzebujemy zwyczajnej liczby do obliczania propagacji wstecznych (pochodnych czątkowych)."
         ]
      },
      {
         "cell_type": "code",
         "execution_count": 73,
         "metadata": {},
         "outputs": [
            {
               "data": {
                  "text/plain": [
                     "tensor(0.1406, dtype=torch.float64, grad_fn=<MseLossBackward0>)"
                  ]
               },
               "execution_count": 73,
               "metadata": {},
               "output_type": "execute_result"
            }
         ],
         "source": [
            "mse = nn.MSELoss()\n",
            "mse(y, a * x + b)"
         ]
      },
      {
         "cell_type": "markdown",
         "metadata": {
            "id": "vS35r49nLAsw"
         },
         "source": [
            "Atrybutu `grad_fn` nie używamy wprost, bo korzysta z niego w środku PyTorch, ale widać, że tensor jest \"świadomy\", że liczy się na nim pochodną. Możemy natomiast skorzystać z atrybutu `grad`, który zawiera faktyczny gradient. Zanim go jednak dostaniemy, to trzeba powiedzieć PyTorchowi, żeby policzył gradient. Służy do tego metoda `.backward()`, wywoływana na obiekcie zwracanym przez funkcję kosztu."
         ]
      },
      {
         "cell_type": "code",
         "execution_count": 74,
         "metadata": {
            "id": "Qb7l6Xg1LAsx"
         },
         "outputs": [],
         "source": [
            "loss = mse(y, a * x + b)\n",
            "loss.backward()"
         ]
      },
      {
         "cell_type": "code",
         "execution_count": 75,
         "metadata": {
            "colab": {
               "base_uri": "https://localhost:8080/"
            },
            "id": "6LfQbLVoLAsx",
            "outputId": "d5b87fb7-d284-423c-f467-b677384b2f67"
         },
         "outputs": [
            {
               "name": "stdout",
               "output_type": "stream",
               "text": [
                  "tensor([0.2649])\n"
               ]
            }
         ],
         "source": [
            "print(a.grad)"
         ]
      },
      {
         "cell_type": "markdown",
         "metadata": {
            "id": "Kdf1iweELAsy"
         },
         "source": [
            "Ważne jest, że PyTorch nie liczy za każdym razem nowego gradientu, tylko dodaje go do istniejącego, czyli go akumuluje. Jest to przydatne w niektórych sieciach neuronowych, ale zazwyczaj trzeba go zerować. Jeżeli tego nie zrobimy, to dostaniemy coraz większe gradienty.\n",
            "\n",
            "Do zerowania służy metoda `.zero_()`. W PyTorchu wszystkie metody modyfikujące tensor w miejscu mają `_` na końcu nazwy. Jest to dość niskopoziomowa operacja dla pojedynczych tensorów - zobaczymy za chwilę, jak to robić łatwiej dla całej sieci."
         ]
      },
      {
         "cell_type": "code",
         "execution_count": 76,
         "metadata": {
            "colab": {
               "base_uri": "https://localhost:8080/"
            },
            "id": "DiCQZKJsLAsy",
            "outputId": "2f779622-480d-43fc-b9d0-a0e36ff4b28b"
         },
         "outputs": [
            {
               "data": {
                  "text/plain": [
                     "tensor([0.5299])"
                  ]
               },
               "execution_count": 76,
               "metadata": {},
               "output_type": "execute_result"
            }
         ],
         "source": [
            "loss = mse(y, a * x + b)\n",
            "loss.backward()\n",
            "a.grad"
         ]
      },
      {
         "cell_type": "markdown",
         "metadata": {
            "id": "xNC3Ag8uLAsz"
         },
         "source": [
            "Zobaczmy, jak wyglądałaby regresja liniowa, ale napisana w PyTorchu. Jest to oczywiście bardzo niskopoziomowa implementacja - za chwilę zobaczymy, jak to wygląda w praktyce."
         ]
      },
      {
         "cell_type": "code",
         "execution_count": 77,
         "metadata": {
            "colab": {
               "base_uri": "https://localhost:8080/"
            },
            "id": "AKnxyeboLAsz",
            "outputId": "2f939474-901a-4773-9704-686a40ae6e8e"
         },
         "outputs": [
            {
               "name": "stdout",
               "output_type": "stream",
               "text": [
                  "step 0 loss:  tensor(0.1406, dtype=torch.float64, grad_fn=<MseLossBackward0>)\n",
                  "step 100 loss:  tensor(0.0118, dtype=torch.float64, grad_fn=<MseLossBackward0>)\n",
                  "step 200 loss:  tensor(0.0102, dtype=torch.float64, grad_fn=<MseLossBackward0>)\n",
                  "step 300 loss:  tensor(0.0101, dtype=torch.float64, grad_fn=<MseLossBackward0>)\n",
                  "step 400 loss:  tensor(0.0101, dtype=torch.float64, grad_fn=<MseLossBackward0>)\n",
                  "step 500 loss:  tensor(0.0101, dtype=torch.float64, grad_fn=<MseLossBackward0>)\n",
                  "step 600 loss:  tensor(0.0101, dtype=torch.float64, grad_fn=<MseLossBackward0>)\n",
                  "step 700 loss:  tensor(0.0101, dtype=torch.float64, grad_fn=<MseLossBackward0>)\n",
                  "step 800 loss:  tensor(0.0101, dtype=torch.float64, grad_fn=<MseLossBackward0>)\n",
                  "step 900 loss:  tensor(0.0101, dtype=torch.float64, grad_fn=<MseLossBackward0>)\n",
                  "final loss: tensor(0.0101, dtype=torch.float64, grad_fn=<MseLossBackward0>)\n"
               ]
            }
         ],
         "source": [
            "learning_rate = 0.1\n",
            "for i in range(1000):\n",
            "    loss = mse(y, a * x + b)\n",
            "\n",
            "    # compute gradients\n",
            "    loss.backward()\n",
            "\n",
            "    # update parameters\n",
            "    a.data -= learning_rate * a.grad\n",
            "    b.data -= learning_rate * b.grad\n",
            "\n",
            "    # zero gradients\n",
            "    a.grad.data.zero_()\n",
            "    b.grad.data.zero_()\n",
            "\n",
            "    if i % 100 == 0:\n",
            "        print(f\"step {i} loss: \", loss)\n",
            "\n",
            "print(\"final loss:\", loss)"
         ]
      },
      {
         "cell_type": "markdown",
         "metadata": {
            "id": "2DXNVhshmmI-"
         },
         "source": [
            "Trening modeli w PyTorchu jest dosyć schematyczny i najczęściej rozdziela się go na kilka bloków, dających razem **pętlę uczącą (training loop)**, powtarzaną w każdej epoce:\n",
            "1. Forward pass - obliczenie predykcji sieci\n",
            "2. Loss calculation\n",
            "3. Backpropagation - obliczenie pochodnych oraz zerowanie gradientów\n",
            "4. Optimalization - aktualizacja wag\n",
            "5. Other - ewaluacja na zbiorze walidacyjnym, logging etc."
         ]
      },
      {
         "cell_type": "code",
         "execution_count": 78,
         "metadata": {
            "colab": {
               "base_uri": "https://localhost:8080/"
            },
            "id": "2etpw7TNLAs0",
            "outputId": "8ac35c12-6c70-41ec-bf57-414456fc3c96",
            "scrolled": true
         },
         "outputs": [
            {
               "name": "stdout",
               "output_type": "stream",
               "text": [
                  "step 0 loss: 0.2081\n",
                  "step 100 loss: 0.0112\n",
                  "step 200 loss: 0.0102\n",
                  "step 300 loss: 0.0101\n",
                  "step 400 loss: 0.0101\n",
                  "step 500 loss: 0.0101\n",
                  "step 600 loss: 0.0101\n",
                  "step 700 loss: 0.0101\n",
                  "step 800 loss: 0.0101\n",
                  "step 900 loss: 0.0101\n",
                  "final loss: tensor(0.0101, dtype=torch.float64, grad_fn=<MseLossBackward0>)\n"
               ]
            }
         ],
         "source": [
            "# initialization\n",
            "learning_rate = 0.1\n",
            "a = torch.rand(1, requires_grad=True)\n",
            "b = torch.rand(1, requires_grad=True)\n",
            "optimizer = torch.optim.SGD([a, b], lr=learning_rate)\n",
            "best_loss = float(\"inf\")\n",
            "\n",
            "# training loop in each epoch\n",
            "for i in range(1000):\n",
            "    # forward pass\n",
            "    y_hat = a * x + b\n",
            "\n",
            "    # loss calculation\n",
            "    loss = mse(y, y_hat)\n",
            "\n",
            "    # backpropagation\n",
            "    loss.backward()\n",
            "\n",
            "    # optimization\n",
            "    optimizer.step()\n",
            "    optimizer.zero_grad()  # zeroes all gradients - very convenient!\n",
            "\n",
            "    if i % 100 == 0:\n",
            "        if loss < best_loss:\n",
            "            best_model = (a.clone(), b.clone())\n",
            "            best_loss = loss\n",
            "        print(f\"step {i} loss: {loss.item():.4f}\")\n",
            "\n",
            "print(\"final loss:\", loss)"
         ]
      },
      {
         "cell_type": "markdown",
         "metadata": {},
         "source": [
            "Przejdziemy teraz do budowy sieci neuronowej do klasyfikacji. Typowo implementuje się ją po prostu jako sieć dla regresji, ale zwracającą tyle wyników, ile mamy klas, a potem aplikuje się na tym funkcję sigmoidalną (2 klasy) lub softmax (>2 klasy). W przypadku klasyfikacji binarnej zwraca się czasem tylko 1 wartość, przepuszczaną przez sigmoidę - wtedy wyjście z sieci to prawdopodobieństwo klasy pozytywnej.\n",
            "\n",
            "Funkcją kosztu zwykle jest **entropia krzyżowa (cross-entropy)**, stosowana też w klasycznej regresji logistycznej. Co ważne, sieci neuronowe, nawet tak proste, uczą się szybciej i stabilniej, gdy dane na wejściu (a przynajmniej zmienne numeryczne) są **ustandaryzowane (standardized)**. Operacja ta polega na odjęciu średniej i podzieleniu przez odchylenie standardowe (tzw. *Z-score transformation*).\n",
            "\n",
            "**Uwaga - PyTorch wymaga tensora klas będącego liczbami zmiennoprzecinkowymi!**"
         ]
      },
      {
         "cell_type": "markdown",
         "metadata": {},
         "source": [
            "## Zbiór danych"
         ]
      },
      {
         "cell_type": "markdown",
         "metadata": {},
         "source": [
            "Na tym laboratorium wykorzystamy zbiór [Adult Census](https://archive.ics.uci.edu/ml/datasets/adult). Dotyczy on przewidywania na podstawie danych demograficznych, czy dany człowiek zarabia powyżej 50 tysięcy dolarów rocznie, czy też mniej. Jest to cenna informacja np. przy planowaniu kampanii marketingowych. Jak możesz się domyślić, zbiór pochodzi z czasów, kiedy inflacja była dużo niższa :)\n",
            "\n",
            "Poniżej znajduje się kod do ściągnięcia i preprocessingu zbioru. Nie musisz go dokładnie analizować."
         ]
      },
      {
         "cell_type": "code",
         "execution_count": 79,
         "metadata": {
            "colab": {
               "base_uri": "https://localhost:8080/"
            },
            "id": "4DNsaZAnLAs0",
            "outputId": "70822008-530d-4173-deb9-8149a9fe5b41",
            "scrolled": true
         },
         "outputs": [],
         "source": [
            "# !wget https://archive.ics.uci.edu/ml/machine-learning-databases/adult/adult.data"
         ]
      },
      {
         "cell_type": "code",
         "execution_count": 80,
         "metadata": {},
         "outputs": [
            {
               "data": {
                  "text/plain": [
                     "array([' <=50K', ' >50K'], dtype=object)"
                  ]
               },
               "execution_count": 80,
               "metadata": {},
               "output_type": "execute_result"
            }
         ],
         "source": [
            "import pandas as pd\n",
            "\n",
            "\n",
            "columns = [\n",
            "    \"age\",\n",
            "    \"workclass\",\n",
            "    \"fnlwgt\",\n",
            "    \"education\",\n",
            "    \"education-num\",\n",
            "    \"marital-status\",\n",
            "    \"occupation\",\n",
            "    \"relationship\",\n",
            "    \"race\",\n",
            "    \"sex\",\n",
            "    \"capital-gain\",\n",
            "    \"capital-loss\",\n",
            "    \"hours-per-week\",\n",
            "    \"native-country\",\n",
            "    \"wage\"\n",
            "]\n",
            "\n",
            "\"\"\"\n",
            "age: continuous.\n",
            "workclass: Private, Self-emp-not-inc, Self-emp-inc, Federal-gov, Local-gov, State-gov, Without-pay, Never-worked.\n",
            "fnlwgt: continuous.\n",
            "education: Bachelors, Some-college, 11th, HS-grad, Prof-school, Assoc-acdm, Assoc-voc, 9th, 7th-8th, 12th, Masters, 1st-4th, 10th, Doctorate, 5th-6th, Preschool.\n",
            "education-num: continuous.\n",
            "marital-status: Married-civ-spouse, Divorced, Never-married, Separated, Widowed, Married-spouse-absent, Married-AF-spouse.\n",
            "occupation: Tech-support, Craft-repair, Other-service, Sales, Exec-managerial, Prof-specialty, Handlers-cleaners, Machine-op-inspct, Adm-clerical, Farming-fishing, Transport-moving, Priv-house-serv, Protective-serv, Armed-Forces.\n",
            "relationship: Wife, Own-child, Husband, Not-in-family, Other-relative, Unmarried.\n",
            "race: White, Asian-Pac-Islander, Amer-Indian-Eskimo, Other, Black.\n",
            "sex: Female, Male.\n",
            "capital-gain: continuous.\n",
            "capital-loss: continuous.\n",
            "hours-per-week: continuous.\n",
            "native-country: United-States, Cambodia, England, Puerto-Rico, Canada, Germany, Outlying-US(Guam-USVI-etc), India, Japan, Greece, South, China, Cuba, Iran, Honduras, Philippines, Italy, Poland, Jamaica, Vietnam, Mexico, Portugal, Ireland, France, Dominican-Republic, Laos, Ecuador, Taiwan, Haiti, Columbia, Hungary, Guatemala, Nicaragua, Scotland, Thailand, Yugoslavia, El-Salvador, Trinadad&Tobago, Peru, Hong, Holand-Netherlands.\n",
            "\"\"\"\n",
            "\n",
            "df = pd.read_csv(\"adult.data\", header=None, names=columns)\n",
            "df.wage.unique()"
         ]
      },
      {
         "cell_type": "code",
         "execution_count": 81,
         "metadata": {},
         "outputs": [],
         "source": [
            "# attribution: https://www.kaggle.com/code/royshih23/topic7-classification-in-python\n",
            "df['education'].replace('Preschool', 'dropout',inplace=True)\n",
            "df['education'].replace('10th', 'dropout',inplace=True)\n",
            "df['education'].replace('11th', 'dropout',inplace=True)\n",
            "df['education'].replace('12th', 'dropout',inplace=True)\n",
            "df['education'].replace('1st-4th', 'dropout',inplace=True)\n",
            "df['education'].replace('5th-6th', 'dropout',inplace=True)\n",
            "df['education'].replace('7th-8th', 'dropout',inplace=True)\n",
            "df['education'].replace('9th', 'dropout',inplace=True)\n",
            "df['education'].replace('HS-Grad', 'HighGrad',inplace=True)\n",
            "df['education'].replace('HS-grad', 'HighGrad',inplace=True)\n",
            "df['education'].replace('Some-college', 'CommunityCollege',inplace=True)\n",
            "df['education'].replace('Assoc-acdm', 'CommunityCollege',inplace=True)\n",
            "df['education'].replace('Assoc-voc', 'CommunityCollege',inplace=True)\n",
            "df['education'].replace('Bachelors', 'Bachelors',inplace=True)\n",
            "df['education'].replace('Masters', 'Masters',inplace=True)\n",
            "df['education'].replace('Prof-school', 'Masters',inplace=True)\n",
            "df['education'].replace('Doctorate', 'Doctorate',inplace=True)\n",
            "\n",
            "df['marital-status'].replace('Never-married', 'NotMarried',inplace=True)\n",
            "df['marital-status'].replace(['Married-AF-spouse'], 'Married',inplace=True)\n",
            "df['marital-status'].replace(['Married-civ-spouse'], 'Married',inplace=True)\n",
            "df['marital-status'].replace(['Married-spouse-absent'], 'NotMarried',inplace=True)\n",
            "df['marital-status'].replace(['Separated'], 'Separated',inplace=True)\n",
            "df['marital-status'].replace(['Divorced'], 'Separated',inplace=True)\n",
            "df['marital-status'].replace(['Widowed'], 'Widowed',inplace=True)"
         ]
      },
      {
         "cell_type": "code",
         "execution_count": 82,
         "metadata": {
            "colab": {
               "base_uri": "https://localhost:8080/"
            },
            "id": "LiOxs_6mLAs1",
            "outputId": "c95418cf-2632-41d0-de0a-9caf109de113",
            "scrolled": true
         },
         "outputs": [
            {
               "name": "stderr",
               "output_type": "stream",
               "text": [
                  "/home/dominiq/anaconda3/lib/python3.10/site-packages/sklearn/preprocessing/_encoders.py:972: FutureWarning: `sparse` was renamed to `sparse_output` in version 1.2 and will be removed in 1.4. `sparse_output` is ignored unless you leave `sparse` to its default value.\n",
                  "  warnings.warn(\n"
               ]
            },
            {
               "data": {
                  "text/plain": [
                     "((20838, 108), (20838,))"
                  ]
               },
               "execution_count": 82,
               "metadata": {},
               "output_type": "execute_result"
            }
         ],
         "source": [
            "from sklearn.model_selection import train_test_split\n",
            "from sklearn.preprocessing import MinMaxScaler, OneHotEncoder, StandardScaler\n",
            "\n",
            "\n",
            "X = df.copy()\n",
            "y = (X.pop(\"wage\") == ' >50K').astype(int).values\n",
            "\n",
            "train_valid_size = 0.2\n",
            "\n",
            "X_train, X_test, y_train, y_test = train_test_split(\n",
            "    X, y, \n",
            "    test_size=train_valid_size, \n",
            "    random_state=0, \n",
            "    shuffle=True, \n",
            "    stratify=y\n",
            ")\n",
            "X_train, X_valid, y_train, y_valid = train_test_split(\n",
            "    X_train, y_train, \n",
            "    test_size=train_valid_size, \n",
            "    random_state=0, \n",
            "    shuffle=True, \n",
            "    stratify=y_train\n",
            ")\n",
            "\n",
            "continuous_cols = ['age', 'fnlwgt', 'education-num', 'capital-gain', 'capital-loss', 'hours-per-week']\n",
            "continuous_X_train = X_train[continuous_cols]\n",
            "categorical_X_train = X_train.loc[:, ~X_train.columns.isin(continuous_cols)]\n",
            "\n",
            "continuous_X_valid = X_valid[continuous_cols]\n",
            "categorical_X_valid = X_valid.loc[:, ~X_valid.columns.isin(continuous_cols)]\n",
            "\n",
            "continuous_X_test = X_test[continuous_cols]\n",
            "categorical_X_test = X_test.loc[:, ~X_test.columns.isin(continuous_cols)]\n",
            "\n",
            "categorical_encoder = OneHotEncoder(sparse=False, handle_unknown='ignore')\n",
            "continuous_scaler = StandardScaler() #MinMaxScaler(feature_range=(-1, 1))\n",
            "\n",
            "categorical_encoder.fit(categorical_X_train)\n",
            "continuous_scaler.fit(continuous_X_train)\n",
            "\n",
            "continuous_X_train = continuous_scaler.transform(continuous_X_train)\n",
            "continuous_X_valid = continuous_scaler.transform(continuous_X_valid)\n",
            "continuous_X_test = continuous_scaler.transform(continuous_X_test)\n",
            "\n",
            "categorical_X_train = categorical_encoder.transform(categorical_X_train)\n",
            "categorical_X_valid = categorical_encoder.transform(categorical_X_valid)\n",
            "categorical_X_test = categorical_encoder.transform(categorical_X_test)\n",
            "\n",
            "X_train = np.concatenate([continuous_X_train, categorical_X_train], axis=1)\n",
            "X_valid = np.concatenate([continuous_X_valid, categorical_X_valid], axis=1)\n",
            "X_test = np.concatenate([continuous_X_test, categorical_X_test], axis=1)\n",
            "\n",
            "X_train.shape, y_train.shape"
         ]
      },
      {
         "cell_type": "markdown",
         "metadata": {},
         "source": [
            "Uwaga co do typów - PyTorchu wszystko w sieci neuronowej musi być typu `float32`. W szczególności trzeba uważać na konwersje z Numpy'a, który używa domyślnie typu `float64`. Może ci się przydać metoda `.float()`.\n",
            "\n",
            "Uwaga co do kształtów wyjścia - wejścia do `nn.BCELoss` muszą być tego samego kształtu. Może ci się przydać metoda `.squeeze()` lub `.unsqueeze()`."
         ]
      },
      {
         "cell_type": "code",
         "execution_count": 83,
         "metadata": {
            "id": "qfRA3xEoLAs1"
         },
         "outputs": [],
         "source": [
            "X_train = torch.from_numpy(X_train).float()\n",
            "y_train = torch.from_numpy(y_train).float().unsqueeze(-1)\n",
            "\n",
            "X_valid = torch.from_numpy(X_valid).float()\n",
            "y_valid = torch.from_numpy(y_valid).float().unsqueeze(-1)\n",
            "\n",
            "X_test = torch.from_numpy(X_test).float()\n",
            "y_test = torch.from_numpy(y_test).float().unsqueeze(-1)"
         ]
      },
      {
         "cell_type": "markdown",
         "metadata": {},
         "source": [
            "Podobnie jak w laboratorium 2, mamy tu do czynienia z klasyfikacją niezbalansowaną:"
         ]
      },
      {
         "cell_type": "code",
         "execution_count": 84,
         "metadata": {},
         "outputs": [
            {
               "data": {
                  "image/png": "[encoded data removed]",
                  "text/plain": [
                     "<Figure size 640x480 with 1 Axes>"
                  ]
               },
               "metadata": {},
               "output_type": "display_data"
            }
         ],
         "source": [
            "import matplotlib.pyplot as plt\n",
            "\n",
            "y_pos_perc = 100 * y_train.sum().item() / len(y_train)\n",
            "y_neg_perc = 100 - y_pos_perc\n",
            "\n",
            "plt.title(\"Class percentages\")\n",
            "plt.bar([\"<50k\", \">=50k\"], [y_neg_perc, y_pos_perc])\n",
            "plt.show()"
         ]
      },
      {
         "cell_type": "markdown",
         "metadata": {},
         "source": [
            "W związku z powyższym będziemy używać odpowiednich metryk, czyli AUROC, precyzji i czułości."
         ]
      },
      {
         "cell_type": "markdown",
         "metadata": {
            "id": "XLexWff-LAs0"
         },
         "source": [
            "#### Zadanie 3 (1.0 punkt)\n",
            "\n",
            "Zaimplementuj regresję logistyczną dla tego zbioru danych, używając PyTorcha. Dane wejściowe zostały dla ciebie przygotowane w komórkach poniżej.\n",
            "\n",
            "Sama sieć składa się z 2 elementów:\n",
            "- warstwa liniowa `nn.Linear`, przekształcająca wektor wejściowy na 1 wyjście - logit\n",
            "- aktywacja sigmoidalna `nn.Sigmoid`, przekształcająca logit na prawdopodobieństwo klasy pozytywnej\n",
            "\n",
            "Użyj binarnej entropii krzyżowej `nn.BCELoss` jako funkcji kosztu. Użyj optymalizatora SGD ze stałą uczącą `1e-3`. Trenuj przez 3000 epok. Pamiętaj, aby przekazać do optymalizatora `torch.optim.SGD` parametry sieci (metoda `.parameters()`). Dopisz logowanie kosztu raz na 100 epok."
         ]
      },
      {
         "cell_type": "code",
         "execution_count": 85,
         "metadata": {
            "colab": {
               "base_uri": "https://localhost:8080/"
            },
            "id": "NbABKz5-LAs2",
            "outputId": "086dc0f3-0184-4072-9fd3-275b60dee2e4",
            "scrolled": true
         },
         "outputs": [
            {
               "name": "stdout",
               "output_type": "stream",
               "text": [
                  "final loss: 0.4316\n"
               ]
            }
         ],
         "source": [
            "learning_rate = 1e-3\n",
            "\n",
            "model = nn.Linear(in_features= X_train.size()[1], out_features= 1)\n",
            "activation = nn.Sigmoid()\n",
            "optimizer = torch.optim.SGD(model.parameters(), lr = learning_rate)\n",
            "loss_fn = nn.BCELoss()\n",
            "\n",
            "for _ in range(3000):\n",
            "    # forward pass\n",
            "    y_pred = activation(model(X_train))\n",
            "\n",
            "    # loss calculation\n",
            "    loss = loss_fn(y_pred, y_train)\n",
            "\n",
            "    # backpropagation\n",
            "    loss.backward()\n",
            "\n",
            "    # optimization\n",
            "    optimizer.step()\n",
            "    optimizer.zero_grad()\n",
            "\n",
            "print(f\"final loss: {loss.item():.4f}\")"
         ]
      },
      {
         "cell_type": "markdown",
         "metadata": {},
         "source": [
            "Teraz trzeba sprawdzić, jak poszło naszej sieci. W PyTorchu sieć pracuje zawsze w jednym z dwóch trybów: treningowym lub ewaluacyjnym (predykcyjnym). Ten drugi wyłącza niektóre mechanizmy, które są używane tylko podczas treningu, w szczególności regularyzację dropout. Do przełączania służą metody modelu `.train()` i `.eval()`.\n",
            "\n",
            "Dodatkowo podczas liczenia predykcji dobrze jest wyłączyć liczenie gradientów, bo nie będą potrzebne, a oszczędza to czas i pamięć. Używa się do tego menadżera kontekstu `with torch.no_grad():`."
         ]
      },
      {
         "cell_type": "code",
         "execution_count": 86,
         "metadata": {
            "colab": {
               "base_uri": "https://localhost:8080/"
            },
            "id": "zH37zDX4LAs2",
            "outputId": "b1f93309-6f04-4ffc-b0ca-08d0a32120a0",
            "scrolled": true
         },
         "outputs": [
            {
               "name": "stdout",
               "output_type": "stream",
               "text": [
                  "AUROC: 86.26%\n"
               ]
            }
         ],
         "source": [
            "from sklearn.metrics import precision_recall_curve, precision_recall_fscore_support, roc_auc_score\n",
            "\n",
            "\n",
            "model.eval()\n",
            "with torch.no_grad():\n",
            "    y_score = activation(model(X_test))\n",
            "\n",
            "auroc = roc_auc_score(y_test, y_score)\n",
            "print(f\"AUROC: {100 * auroc:.2f}%\")"
         ]
      },
      {
         "cell_type": "markdown",
         "metadata": {},
         "source": [
            "Jest to całkiem dobry wynik, a może być jeszcze lepszy. Sprawdźmy dla pewności jeszcze inne metryki: precyzję, recall oraz F1-score. Dodatkowo narysujemy krzywą precision-recall, czyli jak zmieniają się te metryki w zależności od przyjętego progu (threshold) prawdopodobieństwa, powyżej którego przyjmujemy klasę pozytywną. Taką krzywą należy rysować na zbiorze walidacyjnym, bo później chcemy wykorzystać tę informację do doboru progu, a nie chcemy mieć wycieku danych testowych (data leakage).\n",
            "\n",
            "Poniżej zaimplementowano także funkcję `get_optimal_threshold()`, która sprawdza, dla którego progu uzyskujemy maksymalny F1-score, i zwraca indeks oraz wartość optymalnego progu. Przyda ci się ona w dalszej części laboratorium."
         ]
      },
      {
         "cell_type": "code",
         "execution_count": 87,
         "metadata": {},
         "outputs": [],
         "source": [
            "from sklearn.metrics import PrecisionRecallDisplay\n",
            "\n",
            "\n",
            "def get_optimal_threshold(\n",
            "    precisions: np.array, \n",
            "    recalls: np.array, \n",
            "    thresholds: np.array\n",
            ") -> Tuple[int, float]:\n",
            "    \n",
            "    numerator = 2 * precisions * recalls\n",
            "    denominator = precisions + recalls\n",
            "    f1_scores = np.divide(numerator, denominator, out=np.zeros_like(numerator), where=denominator != 0)\n",
            "    \n",
            "    optimal_idx = np.argmax(f1_scores)\n",
            "    optimal_threshold = thresholds[optimal_idx]\n",
            "    \n",
            "    return optimal_idx, optimal_threshold\n",
            "\n",
            "\n",
            "def plot_precision_recall_curve(y_true, y_pred_score) -> None:\n",
            "    precisions, recalls, thresholds = precision_recall_curve(y_true, y_pred_score)\n",
            "    optimal_idx, optimal_threshold = get_optimal_threshold(precisions, recalls, thresholds)\n",
            "\n",
            "    disp = PrecisionRecallDisplay(precisions, recalls)\n",
            "    disp.plot()\n",
            "    plt.title(f\"Precision-recall curve (opt. thresh.: {optimal_threshold:.4f})\")\n",
            "    plt.axvline(recalls[optimal_idx], color=\"green\", linestyle=\"-.\")\n",
            "    plt.axhline(precisions[optimal_idx], color=\"green\", linestyle=\"-.\")\n",
            "    plt.show()\n"
         ]
      },
      {
         "cell_type": "code",
         "execution_count": 88,
         "metadata": {},
         "outputs": [
            {
               "data": {
                  "image/png": "[encoded data removed]",
                  "text/plain": [
                     "<Figure size 640x480 with 1 Axes>"
                  ]
               },
               "metadata": {},
               "output_type": "display_data"
            }
         ],
         "source": [
            "model.eval()\n",
            "with torch.no_grad():\n",
            "    y_pred_valid_score = activation(model(X_valid))\n",
            "\n",
            "plot_precision_recall_curve(y_valid, y_pred_valid_score)"
         ]
      },
      {
         "cell_type": "markdown",
         "metadata": {
            "id": "vfQPIUQ_LAs2"
         },
         "source": [
            "Jak widać, chociaż AUROC jest wysokie, to dla optymalnego F1-score recall nie jest zbyt wysoki, a precyzja jest już dość niska. Być może wynik uda się poprawić, używając modelu o większej pojemności - pełnej, głębokiej sieci neuronowej."
         ]
      },
      {
         "cell_type": "markdown",
         "metadata": {},
         "source": [
            "## Sieci neuronowe"
         ]
      },
      {
         "cell_type": "markdown",
         "metadata": {
            "id": "YP298w6Cq7T6"
         },
         "source": [
            "Wszystko zaczęło się od inspirowanych biologią [sztucznych neuronów](https://en.wikipedia.org/wiki/Artificial_neuron), których próbowano użyć do symulacji mózgu. Naukowcy szybko odeszli od tego podejścia (sam problem modelowania okazał się też znacznie trudniejszy, niż sądzono), zamiast tego używając neuronów jako jednostek reprezentującą dowolną funkcję parametryczną $f(x, \\Theta)$. Każdy neuron jest zatem bardzo elastyczny, bo jedyne wymagania to funkcja różniczkowalna, a mamy do tego wektor parametrów $\\Theta$.\n",
            "\n",
            "W praktyce najczęściej można spotkać się z kilkoma rodzinami sieci neuronowych:\n",
            "1. Perceptrony wielowarstwowe (*MultiLayer Perceptron*, MLP) - najbardziej podobne do powyższego opisu, niezbędne do klasyfikacji i regresji\n",
            "2. Konwolucyjne (*Convolutional Neural Networks*, CNNs) - do przetwarzania danych z zależnościami przestrzennymi, np. obrazów czy dźwięku\n",
            "3. Rekurencyjne (*Recurrent Neural Networks*, RNNs) - do przetwarzania danych z zależnościami sekwencyjnymi, np. szeregi czasowe, oraz kiedyś do języka naturalnego\n",
            "4. Transformacyjne (*Transformers*), oparte o mechanizm atencji (*attention*) - do przetwarzania języka naturalnego (NLP), z którego wyparły RNNs, a coraz częściej także do wszelkich innych danych, np. obrazów, dźwięku\n",
            "5. Grafowe (*Graph Neural Networks*, GNNS) - do przetwarzania grafów\n",
            "\n",
            "Na tym laboratorium skupimy się na najprostszej architekturze, czyli MLP. Jest ona powszechnie łączona z wszelkimi innymi architekturami, bo pozwala dokonywać klasyfikacji i regresji. Przykładowo, klasyfikacja obrazów to zwykle CNN + MLP, klasyfikacja tekstów to transformer + MLP, a regresja na grafach to GNN + MLP.\n",
            "\n",
            "Dodatkowo, pomimo prostoty MLP są bardzo potężne - udowodniono, że perceptrony (ich powszechna nazwa) są [uniwersalnym aproksymatorem](https://www.sciencedirect.com/science/article/abs/pii/0893608089900208), będącym w stanie przybliżyć dowolną funkcję z odpowiednio małym błędem, zakładając wystarczającą wielkość warstw sieci. Szczególne ich wersje potrafią nawet [reprezentować drzewa decyzyjne](https://www.youtube.com/watch?v=_okxGdHM5b8).\n",
            "\n",
            "Dla zainteresowanych polecamy [doskonałą książkę \"Dive into Deep Learning\", z implementacjami w PyTorchu](https://d2l.ai/chapter_multilayer-perceptrons/index.html), [klasyczną książkę \"Deep Learning Book\"](https://www.deeplearningbook.org/contents/mlp.html), oraz [ten filmik](https://www.youtube.com/watch?v=BFHrIxKcLjA), jeśli zastanawiałeś/-aś się, czemu używamy deep learning, a nie naprzykład (wide?) learning. (aka. czemu staramy się budować głębokie sieci, a nie płytkie za to szerokie)"
         ]
      },
      {
         "attachments": {
            "1_x-3NGQv0pRIab8xDT-f_Hg.png": {
               "image/png": "[encoded data removed]"
            }
         },
         "cell_type": "markdown",
         "metadata": {
            "id": "S_ZjoGBU5upj"
         },
         "source": [
            "### Sieci MLP\n",
            "\n",
            "Dla przypomnienia, na wejściu mamy punkty ze zbioru treningowego, czyli $d$-wymiarowe wektory. W klasyfikacji chcemy znaleźć granicę decyzyjną, czyli krzywą, która oddzieli od siebie klasy. W wejściowej przestrzeni może być to trudne, bo chmury punktów z poszczególnych klas mogą być ze sobą dość pomieszane. Pamiętajmy też, że regresja logistyczna jest klasyfikatorem liniowym, czyli w danej przestrzeni potrafi oddzielić punkty tylko linią prostą.\n",
            "\n",
            "Sieć MLP składa się z warstw. Każda z nich dokonuje nieliniowego przekształcenia przestrzeni (można o tym myśleć jak o składaniu przestrzeni jakąś prostą/łamaną), tak, aby w finalnej przestrzeni nasze punkty były możliwie liniowo separowalne. Wtedy ostatnia warstwa z sigmoidą będzie potrafiła je rozdzielić od siebie.\n",
            "\n",
            "![1_x-3NGQv0pRIab8xDT-f_Hg.png](attachment:1_x-3NGQv0pRIab8xDT-f_Hg.png)\n",
            "\n",
            "Poszczególne neurony składają się z iloczynu skalarnego wejść z wagami neuronu, oraz nieliniowej funkcji aktywacji. W PyTorchu są to osobne obiekty - `nn.Linear` oraz np. `nn.Sigmoid`. Funkcja aktywacji przyjmuje wynik iloczynu skalarnego i przekształca go, aby sprawdzić, jak mocno reaguje neuron na dane wejście. Musi być nieliniowa z dwóch powodów. Po pierwsze, tylko nieliniowe przekształcenia są na tyle potężne, żeby umożliwić liniową separację danych w ostatniej warstwie. Po drugie, liniowe przekształcenia zwyczajnie nie działają. Aby zrozumieć czemu, trzeba zobaczyć, co matematycznie oznacza sieć MLP.\n",
            "\n",
            "![perceptron](https://www.saedsayad.com/images/Perceptron_bkp_1.png)\n",
            "\n",
            "Zapisane matematycznie MLP to:\n",
            "\n",
            "$\\large\n",
            "h_1 = f_1(x) \\\\\n",
            "h_2 = f_2(h_1) \\\\\n",
            "h_3 = f_3(h_2) \\\\\n",
            "... \\\\\n",
            "h_n = f_n(h_{n-1})\n",
            "$\n",
            "\n",
            "gdzie $x$ to wejście $f_i$ to funkcja aktywacji $i$-tej warstwy, a $h_i$ to wyjście $i$-tej warstwy, nazywane **ukrytą reprezentacją (hidden representation)**, lub *latent representation*. Nazwa bierze się z tego, że w środku sieci wyciągamy cechy i wzorce w danych, które nie są widoczne na pierwszy rzut oka na wejściu.\n",
            "\n",
            "Załóżmy, że uczymy się na danych $x$ o jednym wymiarze (dla uproszczenia wzorów) oraz nie mamy funkcji aktywacji, czyli wykorzystujemy tak naprawdę aktywację liniową $f(x) = x$. Zobaczmy jak będą wyglądać dane przechodząc przez kolejne warstwy:\n",
            "\n",
            "$\\large\n",
            "h_1 = f_1(xw_1) = xw_1 \\\\\n",
            "h_2 = f_2(h_1w_2) = xw_1w_2 \\\\\n",
            "... \\\\\n",
            "h_n = f_n(h_{n-1}w_n) = xw_1w_2...w_n\n",
            "$\n",
            "\n",
            "gdzie $w_i$ to jest parametr $i$-tej warstwy sieci, $x$ to są dane (w naszym przypadku jedna liczba) wejściowa, a $h_i$ to wyjście $i$-tej warstwy.\n",
            "\n",
            "Jak widać, taka sieć o $n$ warstwach jest równoważna sieci o jednej warstwie z parametrem $w = w_1w_2...w_n$. Wynika to z tego, że złożenie funkcji liniowych jest także funkcją liniową - patrz notatki z algebry :)\n",
            "\n",
            "Jeżeli natomiast użyjemy nieliniowej funkcji aktywacji, często oznaczanej jako $\\sigma$, to wszystko będzie działać. Co ważne, ostatnia warstwa, dająca wyjście sieci, ma zwykle inną aktywację od warstw wewnątrz sieci, bo też ma inne zadanie - zwrócić wartość dla klasyfikacji lub regresji. Na wyjściu korzysta się z funkcji liniowej (regresja), sigmoidalnej (klasyfikacja binarna) lub softmax (klasyfikacja wieloklasowa).\n",
            "\n",
            "Wewnątrz sieci używano kiedyś sigmoidy oraz tangensa hiperbolicznego `tanh`, ale okazało się to nieefektywne przy uczeniu głębokich sieci o wielu warstwach. Nowoczesne sieci korzystają zwykle z funkcji ReLU (*rectified linear unit*), która jest zaskakująco prosta: $ReLU(x) = \\max(0, x)$. Okazało się, że bardzo dobrze nadaje się do treningu nawet bardzo głębokich sieci neuronowych. Nowsze funkcje aktywacji są głównie modyfikacjami ReLU.\n",
            "\n",
            "![relu](https://www.nomidl.com/wp-content/uploads/2022/04/image-10.png)"
         ]
      },
      {
         "cell_type": "markdown",
         "metadata": {},
         "source": [
            "### MLP w PyTorchu\n",
            "\n",
            "Warstwę neuronów w MLP nazywa się warstwą gęstą (*dense layer*) lub warstwą w pełni połączoną (*fully-connected layer*), i taki opis oznacza zwykle same neurony oraz funkcję aktywacji. PyTorch, jak już widzieliśmy, definiuje osobno transformację liniową oraz aktywację, a więc jedna warstwa składa się de facto z 2 obiektów, wywoływanych jeden po drugim. Inne frameworki, szczególnie wysokopoziomowe (np. Keras) łączą to często w jeden obiekt.\n",
            "\n",
            "MLP składa się zatem z sekwencji obiektów, które potem wywołuje się jeden po drugim, gdzie wyjście poprzedniego to wejście kolejnego. Ale nie można tutaj używać Pythonowych list! Z perspektywy PyTorcha to wtedy niezależne obiekty i nie zostanie wtedy przekazany między nimi gradient. Trzeba tutaj skorzystać z `nn.Sequential`, aby tworzyć taki pipeline.\n",
            "\n",
            "Rozmiary wejścia i wyjścia dla każdej warstwy trzeba w PyTorchu podawać explicite. Jest to po pierwsze edukacyjne, a po drugie często ułatwia wnioskowanie o działaniu sieci oraz jej debugowanie - mamy jasno podane, czego oczekujemy. Niektóre frameworki (np. Keras) obliczają to automatycznie.\n",
            "\n",
            "Co ważne, ostatnia warstwa zwykle nie ma funkcji aktywacji. Wynika to z tego, że obliczanie wielu funkcji kosztu (np. entropii krzyżowej) na aktywacjach jest często niestabilne numerycznie. Z tego powodu PyTorch oferuje funkcje kosztu zawierające w środku aktywację dla ostatniej warstwy, a ich implementacje są stabilne numerycznie. Przykładowo, `nn.BCELoss` przyjmuje wejście z zaaplikowanymi już aktywacjami, ale może skutkować under/overflow, natomiast `nn.BCEWithLogitsLoss` przyjmuje wejście bez aktywacji, a w środku ma specjalną implementację łączącą binarną entropię krzyżową z aktywacją sigmoidalną. Oczywiście w związku z tym aby dokonać potem predykcji w praktyce, trzeba pamiętać o użyciu funkcji aktywacji. Często korzysta się przy tym z funkcji z modułu `torch.nn.functional`, które są w tym wypadku nieco wygodniejsze od klas wywoływalnych z `torch.nn`.\n",
            "\n",
            "Całe sieci w PyTorchu tworzy się jako klasy dziedziczące po `nn.Module`. Co ważne, obiekty, z których tworzymy sieć, np. `nn.Linear`, także dziedziczą po tej klasie. Pozwala to na bardzo modułową budowę kodu, zgodną z zasadami OOP. W konstruktorze najpierw trzeba zawsze wywołać konstruktor rodzica - `super().__init__()`, a później tworzy się potrzebne obiekty i zapisuje jako atrybuty. Każdy atrybut dziedziczący po `nn.Module` lub `nn.Parameter` jest uważany za taki, który zawiera parametry sieci, a więc przy wywołaniu metody `parameters()` - parametry z tych atrybutów pojawią się w liście wszystkich parametrów. Musimy też zdefiniować metodę `forward()`, która przyjmuje tensor `x` i zwraca wynik. Typowo ta metoda po prostu używa obiektów zdefiniowanych w konstruktorze.\n",
            "\n",
            "\n",
            "**UWAGA: nigdy w normalnych warunkach się nie woła metody `forward` ręcznie**"
         ]
      },
      {
         "cell_type": "markdown",
         "metadata": {
            "id": "J8niDgExAMDO"
         },
         "source": [
            "#### Zadanie 4 (0.5 punktu)\n",
            "\n",
            "Uzupełnij implementację 3-warstwowej sieci MLP. Użyj rozmiarów:\n",
            "* pierwsza warstwa: input_size x 256\n",
            "* druga warstwa: 256 x 128\n",
            "* trzecia warstwa: 128 x 1\n",
            "\n",
            "Użyj funkcji aktywacji ReLU.\n",
            "\n",
            "Przydatne klasy:\n",
            "- `nn.Sequential`\n",
            "- `nn.Linear`\n",
            "- `nn.ReLU`"
         ]
      },
      {
         "cell_type": "code",
         "execution_count": 89,
         "metadata": {},
         "outputs": [],
         "source": [
            "from torch import sigmoid\n",
            "\n",
            "\n",
            "class MLP(nn.Module):\n",
            "    def __init__(self, input_size: int):\n",
            "        super().__init__()\n",
            "\n",
            "        self.mlp = nn.Sequential(\n",
            "            nn.Linear(input_size, 256),\n",
            "            nn.ReLU(), \n",
            "            nn.Linear(256, 128),\n",
            "            nn.ReLU(),\n",
            "            nn.Linear(128, 1),\n",
            "        )\n",
            "\n",
            "    def forward(self, x):\n",
            "        return self.mlp(x)\n",
            "\n",
            "    def predict_proba(self, x):\n",
            "        return sigmoid(self(x))\n",
            "    \n",
            "    def predict(self, x, threshold: float = 0.5):\n",
            "        y_pred_score = self.predict_proba(x)\n",
            "        return (y_pred_score > threshold).to(torch.int32)\n"
         ]
      },
      {
         "cell_type": "code",
         "execution_count": 90,
         "metadata": {},
         "outputs": [
            {
               "name": "stdout",
               "output_type": "stream",
               "text": [
                  "Epoch 0 train loss: 0.7139\n"
               ]
            },
            {
               "name": "stdout",
               "output_type": "stream",
               "text": [
                  "Epoch 200 train loss: 0.6899\n",
                  "Epoch 400 train loss: 0.6695\n",
                  "Epoch 600 train loss: 0.6517\n",
                  "Epoch 800 train loss: 0.6360\n",
                  "Epoch 1000 train loss: 0.6221\n",
                  "Epoch 1200 train loss: 0.6096\n",
                  "Epoch 1400 train loss: 0.5984\n",
                  "Epoch 1600 train loss: 0.5884\n",
                  "Epoch 1800 train loss: 0.5793\n",
                  "final loss: 0.5712\n"
               ]
            }
         ],
         "source": [
            "learning_rate = 1e-3\n",
            "model = MLP(input_size=X_train.shape[1])\n",
            "optimizer = torch.optim.SGD(model.parameters(), lr=learning_rate)\n",
            "\n",
            "# note that we are using loss function with sigmoid built in\n",
            "loss_fn = torch.nn.BCEWithLogitsLoss()\n",
            "num_epochs = 2000\n",
            "evaluation_steps = 200\n",
            "\n",
            "for i in range(num_epochs):\n",
            "    y_pred = model(X_train)\n",
            "    loss = loss_fn(y_pred, y_train)\n",
            "    loss.backward()\n",
            "\n",
            "    optimizer.step()\n",
            "    optimizer.zero_grad()\n",
            "\n",
            "    if i % evaluation_steps == 0:\n",
            "        print(f\"Epoch {i} train loss: {loss.item():.4f}\")\n",
            "\n",
            "print(f\"final loss: {loss.item():.4f}\")"
         ]
      },
      {
         "cell_type": "code",
         "execution_count": 91,
         "metadata": {
            "colab": {
               "base_uri": "https://localhost:8080/"
            },
            "id": "LP5GSup24dXU",
            "outputId": "05f332c4-5d94-41f6-f85b-17793d3c4b49"
         },
         "outputs": [
            {
               "name": "stdout",
               "output_type": "stream",
               "text": [
                  "AUROC: 86.26%\n"
               ]
            },
            {
               "data": {
                  "image/png": "[encoded data removed]",
                  "text/plain": [
                     "<Figure size 640x480 with 1 Axes>"
                  ]
               },
               "metadata": {},
               "output_type": "display_data"
            }
         ],
         "source": [
            "model.eval()\n",
            "with torch.no_grad():\n",
            "    # positive class probabilities\n",
            "    y_pred_valid_score = model.predict_proba(X_valid)\n",
            "    y_pred_test_score = model.predict_proba(X_test)\n",
            "\n",
            "auroc = roc_auc_score(y_test, y_score)\n",
            "print(f\"AUROC: {100 * auroc:.2f}%\")\n",
            "\n",
            "plot_precision_recall_curve(y_valid, y_pred_valid_score)"
         ]
      },
      {
         "cell_type": "markdown",
         "metadata": {},
         "source": [
            "AUROC jest podobne, a precision i recall spadły - wypadamy wręcz gorzej od regresji liniowej! Skoro dodaliśmy więcej warstw, to może pojemność modelu jest teraz za duża i trzeba by go zregularyzować?\n",
            "\n",
            "Sieci neuronowe bardzo łatwo przeuczają, bo są bardzo elastycznymi i pojemnymi modelami. Dlatego mają wiele różnych rodzajów regularyzacji, których używa się razem. Co ciekawe, udowodniono eksperymentalnie, że zbyt duże sieci z mocną regularyzacją działają lepiej niż mniejsze sieci, odpowiedniego rozmiaru, za to ze słabszą regularyzacją.\n",
            "\n",
            "Pierwszy rodzaj regularyzacji to znana nam już **regularyzacja L2**, czyli penalizacja zbyt dużych wag. W kontekście sieci neuronowych nazywa się też ją czasem *weight decay*. W PyTorchu dodaje się ją jako argument do optymalizatora.\n",
            "\n",
            "Regularyzacja specyficzna dla sieci neuronowych to **dropout**. Polega on na losowym wyłączaniu zadanego procenta neuronów podczas treningu. Pomimo prostoty okazała się niesamowicie skuteczna, szczególnie w treningu bardzo głębokich sieci. Co ważne, jest to mechanizm używany tylko podczas treningu - w trakcie predykcji za pomocą sieci wyłącza się ten mechanizm i dokonuje normalnie predykcji całą siecią. Podejście to można potraktować jak ensemble learning, podobny do lasów losowych - wyłączając losowe części sieci, w każdej iteracji trenujemy nieco inną sieć, co odpowiada uśrednianiu predykcji różnych algorytmów. Typowo stosuje się dość mocny dropout, rzędu 25-50%. W PyTorchu implementuje go warstwa `nn.Dropout`, aplikowana zazwyczaj po funkcji aktywacji.\n",
            "\n",
            "Ostatni, a być może najważniejszy rodzaj regularyzacji to **wczesny stop (early stopping)**. W każdym kroku mocniej dostosowujemy terenową sieć do zbioru treningowego, a więc zbyt długi trening będzie skutkował przeuczeniem. W metodzie wczesnego stopu używamy wydzielonego zbioru walidacyjnego (pojedynczego, metoda holdout), sprawdzając co określoną liczbę epok wynik na tym zbiorze. Jeżeli nie uzyskamy wyniku lepszego od najlepszego dotychczas uzyskanego przez określoną liczbę epok, to przerywamy trening. Okres, przez który czekamy na uzyskanie lepszego wyniku, to cierpliwość (*patience*). Im mniejsze, tym mocniejszy jest ten rodzaj regularyzacji, ale trzeba z tym uważać, bo łatwo jest przesadzić i zbyt szybko przerywać trening. Niektóre implementacje uwzględniają tzw. *grace period*, czyli gwarantowaną minimalną liczbę epok, przez którą będziemy trenować sieć, niezależnie od wybranej cierpliwości.\n",
            "\n",
            "Dodatkowo ryzyko przeuczenia można zmniejszyć, używając mniejszej stałej uczącej."
         ]
      },
      {
         "cell_type": "markdown",
         "metadata": {},
         "source": [
            "#### Zadanie 5 (1.5 punktu)\n",
            "\n",
            "Zaimplementuj funkcję `evaluate_model()`, obliczającą metryki na zbiorze testowym:\n",
            "- wartość funkcji kosztu (loss)\n",
            "- AUROC\n",
            "- optymalny próg\n",
            "- F1-score przy optymalnym progu\n",
            "- precyzję oraz recall dla optymalnego progu\n",
            "\n",
            "Jeżeli podana jest wartość argumentu `threshold`, to użyj jej do zamiany prawdopodobieństw na twarde predykcje. W przeciwnym razie użyj funkcji `get_optimal_threshold` i oblicz optymalną wartość progu.\n",
            "\n",
            "Pamiętaj o przełączeniu modelu w tryb ewaluacji oraz o wyłączeniu obliczania gradientów."
         ]
      },
      {
         "cell_type": "code",
         "execution_count": 92,
         "metadata": {},
         "outputs": [],
         "source": [
            "from typing import Optional\n",
            "\n",
            "from sklearn.metrics import precision_score, recall_score, f1_score\n",
            "from torch import sigmoid\n",
            "\n",
            "\n",
            "def evaluate_model(\n",
            "    model: nn.Module, \n",
            "    X: torch.Tensor, \n",
            "    y: torch.Tensor, \n",
            "    loss_fn: nn.Module,\n",
            "    threshold: Optional[float]= None\n",
            ") -> Dict[str, float]:\n",
            "    model.eval()\n",
            "    y_predict_proba = None\n",
            "\n",
            "    with torch.no_grad():\n",
            "        y_predict_proba = model.predict_proba(X)\n",
            "\n",
            "    auroc = roc_auc_score(y, y_predict_proba)\n",
            "    loss = loss_fn(y_predict_proba,y )\n",
            "    \n",
            "    if threshold is None:\n",
            "        precisions, recalls, thresholds =  precision_recall_curve(y, y_predict_proba)\n",
            "        _, threshold = get_optimal_threshold(precisions, recalls, thresholds)\n",
            "    \n",
            "    y_pred = (y_predict_proba > threshold).float()\n",
            "    \n",
            "    precision = precision_score(y, y_pred)\n",
            "    recall = recall_score(y, y_pred)\n",
            "    f1 = f1_score(y, y_pred)\n",
            "    \n",
            "    results = {\n",
            "        \"loss\": loss,\n",
            "        \"AUROC\": auroc,\n",
            "        \"optimal_threshold\": threshold,\n",
            "        \"precision\": precision,\n",
            "        \"recall\": recall,\n",
            "        \"F1-score\": f1,\n",
            "    }\n",
            "    return results\n"
         ]
      },
      {
         "cell_type": "markdown",
         "metadata": {},
         "source": [
            "#### Zadanie 6 (0.5 punktu)\n",
            "\n",
            "Zaimplementuj 3-warstwową sieć MLP z dropout (50%). Rozmiary warstw ukrytych mają wynosić 256 i 128."
         ]
      },
      {
         "cell_type": "code",
         "execution_count": 93,
         "metadata": {},
         "outputs": [],
         "source": [
            "class RegularizedMLP(nn.Module):\n",
            "    def __init__(self, input_size: int, dropout_p: float = 0.5):\n",
            "        super().__init__()\n",
            "\n",
            "        self.mlp = nn.Sequential(\n",
            "            nn.Linear(input_size, 256), \n",
            "            nn.ReLU(),\n",
            "            nn.Dropout(p=0.5),\n",
            "            nn.Linear(256, 128),\n",
            "            nn.ReLU(),\n",
            "            nn.Dropout(p=0.5),\n",
            "            nn.Linear(128, 1),\n",
            "        )\n",
            "    \n",
            "    def forward(self, x):\n",
            "        return self.mlp(x)\n",
            "\n",
            "    def predict_proba(self, x):\n",
            "        return sigmoid(self(x))\n",
            "    \n",
            "    def predict(self, x, threshold: float = 0.5):\n",
            "        y_pred_score = self.predict_proba(x)\n",
            "        return (y_pred_score > threshold).to(torch.int32)\n"
         ]
      },
      {
         "cell_type": "markdown",
         "metadata": {
            "id": "rEk9azaULAsz"
         },
         "source": [
            "Opisaliśmy wcześniej podstawowy optymalizator w sieciach neuronowych - spadek wzdłuż gradientu. Jednak wymaga on użycia całego zbioru danych, aby obliczyć gradient, co jest często niewykonalne przez rozmiar zbioru. Dlatego wymyślono **stochastyczny spadek wzdłuż gradientu (stochastic gradient descent, SGD)**, w którym używamy 1 przykładu naraz, liczymy gradient tylko po nim i aktualizujemy parametry. Jest to oczywiście dość grube przybliżenie gradientu, ale pozwala robić szybko dużo małych kroków. Kompromisem, którego używa się w praktyce, jest **minibatch gradient descent**, czyli używanie batchy np. 32, 64 czy 128 przykładów.\n",
            "\n",
            "Rzadko wspominanym, a ważnym faktem jest także to, że stochastyczność metody optymalizacji jest sama w sobie też [metodą regularyzacji](https://arxiv.org/abs/2101.12176), a więc `batch_size` to także hiperparametr.\n",
            "\n",
            "Obecnie najpopularniejszą odmianą SGD jest [Adam](https://arxiv.org/abs/1412.6980), gdyż uczy on szybko sieć oraz daje bardzo dobre wyniki nawet przy niekoniecznie idealnie dobranych hiperparametrach. W PyTorchu najlepiej korzystać z jego implementacji `AdamW`, która jest nieco lepsza niż implementacja `Adam`. Jest to zasadniczo zawsze wybór domyślny przy treningu współczesnych sieci neuronowych.\n",
            "\n",
            "Na razie użyjemy jednak minibatch SGD."
         ]
      },
      {
         "cell_type": "markdown",
         "metadata": {},
         "source": [
            "Poniżej znajduje się implementacja prostej klasy dziedziczącej po `Dataset` - tak w PyTorchu implementuje się własne zbiory danych. Użycie takich klas umożliwia użycie klas ładujących dane (`DataLoader`), które z kolei pozwalają łatwo ładować batche danych. Trzeba w takiej klasie zaimplementować metody:\n",
            "- `__len__` - zwraca ilość punktów w zbiorze\n",
            "- `__getitem__` - zwraca przykład ze zbioru pod danym indeksem oraz jego klasę\n"
         ]
      },
      {
         "cell_type": "code",
         "execution_count": 94,
         "metadata": {},
         "outputs": [],
         "source": [
            "from torch.utils.data import Dataset\n",
            "\n",
            "\n",
            "class MyDataset(Dataset):\n",
            "    def __init__(self, data, y):\n",
            "        super().__init__()\n",
            "        \n",
            "        self.data = data\n",
            "        self.y = y\n",
            "    \n",
            "    def __len__(self):\n",
            "        return self.data.shape[0]\n",
            "    \n",
            "    def __getitem__(self, idx):\n",
            "        return self.data[idx], self.y[idx]\n"
         ]
      },
      {
         "cell_type": "markdown",
         "metadata": {},
         "source": [
            "#### Zadanie 7 (1.5 punktu)\n",
            "\n",
            "Zaimplementuj pętlę treningowo-walidacyjną dla sieci neuronowej. Wykorzystaj podane wartości hiperparametrów do treningu (stała ucząca, prawdopodobieństwo dropoutu, regularyzacja L2, rozmiar batcha, maksymalna liczba epok). Użyj optymalizatora SGD.\n",
            "\n",
            "Dodatkowo zaimplementuj regularyzację przez early stopping. Sprawdzaj co epokę wynik na zbiorze walidacyjnym. Użyj podanej wartości patience, a jako metryki po prostu wartości funkcji kosztu. Może się tutaj przydać zaimplementowana funkcja `evaluate_model()`.\n",
            "\n",
            "Pamiętaj o tym, aby przechowywać najlepszy dotychczasowy wynik walidacyjny oraz najlepszy dotychczasowy model. Zapamiętaj też optymalny próg do klasyfikacji dla najlepszego modelu."
         ]
      },
      {
         "cell_type": "code",
         "execution_count": 95,
         "metadata": {},
         "outputs": [],
         "source": [
            "from copy import deepcopy\n",
            "\n",
            "from torch.utils.data import DataLoader\n",
            "\n",
            "\n",
            "learning_rate = 1e-3\n",
            "dropout_p = 0.5\n",
            "l2_reg = 1e-4\n",
            "batch_size = 128\n",
            "max_epochs = 300\n",
            "\n",
            "early_stopping_patience = 4"
         ]
      },
      {
         "cell_type": "code",
         "execution_count": 96,
         "metadata": {
            "scrolled": true
         },
         "outputs": [
            {
               "name": "stdout",
               "output_type": "stream",
               "text": [
                  "Epoch 0 train loss: 0.6758, eval loss 0.8472768664360046\n"
               ]
            },
            {
               "name": "stdout",
               "output_type": "stream",
               "text": [
                  "Epoch 1 train loss: 0.6579, eval loss 0.8406221866607666\n",
                  "Epoch 2 train loss: 0.6455, eval loss 0.8344670534133911\n",
                  "Epoch 3 train loss: 0.6280, eval loss 0.8287307024002075\n",
                  "Epoch 4 train loss: 0.6167, eval loss 0.8233679533004761\n",
                  "Epoch 5 train loss: 0.6063, eval loss 0.8183223605155945\n",
                  "Epoch 6 train loss: 0.5912, eval loss 0.8135380148887634\n",
                  "Epoch 7 train loss: 0.5878, eval loss 0.8090396523475647\n",
                  "Epoch 8 train loss: 0.5744, eval loss 0.8047727942466736\n",
                  "Epoch 9 train loss: 0.5694, eval loss 0.8007239103317261\n",
                  "Epoch 10 train loss: 0.5650, eval loss 0.7968899011611938\n",
                  "Epoch 11 train loss: 0.5545, eval loss 0.7932647466659546\n",
                  "Epoch 12 train loss: 0.5480, eval loss 0.7898336052894592\n",
                  "Epoch 13 train loss: 0.5419, eval loss 0.7866008281707764\n",
                  "Epoch 14 train loss: 0.5454, eval loss 0.7835479974746704\n",
                  "Epoch 15 train loss: 0.5413, eval loss 0.7806528806686401\n",
                  "Epoch 16 train loss: 0.5425, eval loss 0.7779390811920166\n",
                  "Epoch 17 train loss: 0.5363, eval loss 0.7753744721412659\n",
                  "Epoch 18 train loss: 0.5251, eval loss 0.7729799747467041\n",
                  "Epoch 19 train loss: 0.5371, eval loss 0.7707502841949463\n",
                  "Epoch 20 train loss: 0.5242, eval loss 0.7685996294021606\n",
                  "Epoch 21 train loss: 0.5265, eval loss 0.7665858864784241\n",
                  "Epoch 22 train loss: 0.5183, eval loss 0.7646225094795227\n",
                  "Epoch 23 train loss: 0.5196, eval loss 0.7628054618835449\n",
                  "Epoch 24 train loss: 0.5103, eval loss 0.7610799670219421\n",
                  "Epoch 25 train loss: 0.5177, eval loss 0.7594562768936157\n",
                  "Epoch 26 train loss: 0.5073, eval loss 0.7578231692314148\n",
                  "Epoch 27 train loss: 0.5142, eval loss 0.7563276886940002\n",
                  "Epoch 28 train loss: 0.5035, eval loss 0.7548720836639404\n",
                  "Epoch 29 train loss: 0.4897, eval loss 0.7534633874893188\n",
                  "Epoch 30 train loss: 0.5011, eval loss 0.7520900964736938\n",
                  "Epoch 31 train loss: 0.4987, eval loss 0.7507801055908203\n",
                  "Epoch 32 train loss: 0.4852, eval loss 0.7494747638702393\n",
                  "Epoch 33 train loss: 0.4842, eval loss 0.748223602771759\n",
                  "Epoch 34 train loss: 0.4996, eval loss 0.7470261454582214\n",
                  "Epoch 35 train loss: 0.4741, eval loss 0.7458387613296509\n",
                  "Epoch 36 train loss: 0.4779, eval loss 0.7446452379226685\n",
                  "Epoch 37 train loss: 0.4841, eval loss 0.7435332536697388\n",
                  "Epoch 38 train loss: 0.4674, eval loss 0.7424647212028503\n",
                  "Epoch 39 train loss: 0.4719, eval loss 0.7413632869720459\n",
                  "Epoch 40 train loss: 0.4718, eval loss 0.7402780055999756\n",
                  "Epoch 41 train loss: 0.4630, eval loss 0.7392199635505676\n",
                  "Epoch 42 train loss: 0.4668, eval loss 0.7381896376609802\n",
                  "Epoch 43 train loss: 0.4655, eval loss 0.7371417284011841\n",
                  "Epoch 44 train loss: 0.4627, eval loss 0.7361432909965515\n",
                  "Epoch 45 train loss: 0.4586, eval loss 0.7351458668708801\n",
                  "Epoch 46 train loss: 0.4607, eval loss 0.7342188358306885\n",
                  "Epoch 47 train loss: 0.4560, eval loss 0.7332260608673096\n",
                  "Epoch 48 train loss: 0.4573, eval loss 0.7322871088981628\n",
                  "Epoch 49 train loss: 0.4389, eval loss 0.7313681244850159\n",
                  "Epoch 50 train loss: 0.4470, eval loss 0.7304747700691223\n",
                  "Epoch 51 train loss: 0.4428, eval loss 0.7296051979064941\n",
                  "Epoch 52 train loss: 0.4263, eval loss 0.7287679314613342\n",
                  "Epoch 53 train loss: 0.4571, eval loss 0.7279571890830994\n",
                  "Epoch 54 train loss: 0.4407, eval loss 0.7271102070808411\n",
                  "Epoch 55 train loss: 0.4230, eval loss 0.7263414859771729\n",
                  "Epoch 56 train loss: 0.4373, eval loss 0.7255369424819946\n",
                  "Epoch 57 train loss: 0.4340, eval loss 0.7247440218925476\n",
                  "Epoch 58 train loss: 0.4235, eval loss 0.7239987850189209\n",
                  "Epoch 59 train loss: 0.4211, eval loss 0.7232958078384399\n",
                  "Epoch 60 train loss: 0.4384, eval loss 0.7225873470306396\n",
                  "Epoch 61 train loss: 0.4250, eval loss 0.7218860387802124\n",
                  "Epoch 62 train loss: 0.4318, eval loss 0.7212454080581665\n",
                  "Epoch 63 train loss: 0.4049, eval loss 0.7205619812011719\n",
                  "Epoch 64 train loss: 0.4109, eval loss 0.7199290990829468\n",
                  "Epoch 65 train loss: 0.4201, eval loss 0.7192897796630859\n",
                  "Epoch 66 train loss: 0.4027, eval loss 0.7186958193778992\n",
                  "Epoch 67 train loss: 0.4297, eval loss 0.7181813716888428\n",
                  "Epoch 68 train loss: 0.4047, eval loss 0.7175680994987488\n",
                  "Epoch 69 train loss: 0.4350, eval loss 0.7169566750526428\n",
                  "Epoch 70 train loss: 0.4265, eval loss 0.7164531946182251\n",
                  "Epoch 71 train loss: 0.4245, eval loss 0.7159352898597717\n",
                  "Epoch 72 train loss: 0.4059, eval loss 0.7154091000556946\n",
                  "Epoch 73 train loss: 0.4226, eval loss 0.7149758338928223\n",
                  "Epoch 74 train loss: 0.4162, eval loss 0.7144460678100586\n",
                  "Epoch 75 train loss: 0.4045, eval loss 0.7139652371406555\n",
                  "Epoch 76 train loss: 0.4171, eval loss 0.7135350704193115\n",
                  "Epoch 77 train loss: 0.3981, eval loss 0.713085949420929\n",
                  "Epoch 78 train loss: 0.3916, eval loss 0.7125767469406128\n",
                  "Epoch 79 train loss: 0.3851, eval loss 0.7121457457542419\n",
                  "Epoch 80 train loss: 0.4189, eval loss 0.7117369174957275\n",
                  "Epoch 81 train loss: 0.4146, eval loss 0.7113292813301086\n",
                  "Epoch 82 train loss: 0.3824, eval loss 0.7108842134475708\n",
                  "Epoch 83 train loss: 0.4191, eval loss 0.710518479347229\n",
                  "Epoch 84 train loss: 0.4068, eval loss 0.7101287245750427\n",
                  "Epoch 85 train loss: 0.4148, eval loss 0.7097732424736023\n",
                  "Epoch 86 train loss: 0.4199, eval loss 0.7094858884811401\n",
                  "Epoch 87 train loss: 0.4010, eval loss 0.7091237902641296\n",
                  "Epoch 88 train loss: 0.3896, eval loss 0.7088135480880737\n",
                  "Epoch 89 train loss: 0.3818, eval loss 0.7084618210792542\n",
                  "Epoch 90 train loss: 0.4035, eval loss 0.7081772685050964\n",
                  "Epoch 91 train loss: 0.3918, eval loss 0.7079178690910339\n",
                  "Epoch 92 train loss: 0.3932, eval loss 0.7075515985488892\n",
                  "Epoch 93 train loss: 0.3755, eval loss 0.7072030305862427\n",
                  "Epoch 94 train loss: 0.3944, eval loss 0.7069956064224243\n",
                  "Epoch 95 train loss: 0.3766, eval loss 0.7067513465881348\n",
                  "Epoch 96 train loss: 0.4129, eval loss 0.7065207958221436\n",
                  "Epoch 97 train loss: 0.3943, eval loss 0.7062364816665649\n",
                  "Epoch 98 train loss: 0.3954, eval loss 0.7059453725814819\n",
                  "Epoch 99 train loss: 0.3820, eval loss 0.7057190537452698\n",
                  "Epoch 100 train loss: 0.4094, eval loss 0.7054493427276611\n",
                  "Epoch 101 train loss: 0.3942, eval loss 0.7053051590919495\n",
                  "Epoch 102 train loss: 0.3952, eval loss 0.705087423324585\n",
                  "Epoch 103 train loss: 0.3899, eval loss 0.7048282027244568\n",
                  "Epoch 104 train loss: 0.3833, eval loss 0.704686164855957\n",
                  "Epoch 105 train loss: 0.4030, eval loss 0.704498291015625\n",
                  "Epoch 106 train loss: 0.3993, eval loss 0.7042953968048096\n",
                  "Epoch 107 train loss: 0.3736, eval loss 0.7041530013084412\n",
                  "Epoch 108 train loss: 0.3658, eval loss 0.7040823698043823\n",
                  "Epoch 109 train loss: 0.3719, eval loss 0.7037944793701172\n",
                  "Epoch 110 train loss: 0.3731, eval loss 0.703667402267456\n",
                  "Epoch 111 train loss: 0.3892, eval loss 0.7034415006637573\n",
                  "Epoch 112 train loss: 0.4204, eval loss 0.7033019661903381\n",
                  "Epoch 113 train loss: 0.3917, eval loss 0.7031877040863037\n",
                  "Epoch 114 train loss: 0.4073, eval loss 0.7030643820762634\n",
                  "Epoch 115 train loss: 0.3963, eval loss 0.7028688788414001\n",
                  "Epoch 116 train loss: 0.3979, eval loss 0.702724039554596\n",
                  "Epoch 117 train loss: 0.3758, eval loss 0.7025724053382874\n",
                  "Epoch 118 train loss: 0.3904, eval loss 0.7024857997894287\n",
                  "Epoch 119 train loss: 0.4064, eval loss 0.7022857666015625\n",
                  "Epoch 120 train loss: 0.4037, eval loss 0.7021216154098511\n",
                  "Epoch 121 train loss: 0.4197, eval loss 0.7019868493080139\n",
                  "Epoch 122 train loss: 0.3530, eval loss 0.7019292116165161\n",
                  "Epoch 123 train loss: 0.3380, eval loss 0.7017343044281006\n",
                  "Epoch 124 train loss: 0.4067, eval loss 0.7015796899795532\n",
                  "Epoch 125 train loss: 0.3830, eval loss 0.7013915777206421\n",
                  "Epoch 126 train loss: 0.3745, eval loss 0.7013457417488098\n",
                  "Epoch 127 train loss: 0.4134, eval loss 0.7012054920196533\n",
                  "Epoch 128 train loss: 0.3735, eval loss 0.7010757327079773\n",
                  "Epoch 129 train loss: 0.3751, eval loss 0.7009279727935791\n",
                  "Epoch 130 train loss: 0.3722, eval loss 0.70081627368927\n",
                  "Epoch 131 train loss: 0.3602, eval loss 0.7007020115852356\n",
                  "Epoch 132 train loss: 0.3909, eval loss 0.7005268931388855\n",
                  "Epoch 133 train loss: 0.3826, eval loss 0.7004037499427795\n",
                  "Epoch 134 train loss: 0.3802, eval loss 0.7003487944602966\n",
                  "Epoch 135 train loss: 0.3615, eval loss 0.7003514170646667\n",
                  "Epoch 136 train loss: 0.3799, eval loss 0.7002591490745544\n",
                  "Epoch 137 train loss: 0.3728, eval loss 0.7001542448997498\n",
                  "Epoch 138 train loss: 0.3828, eval loss 0.7001027464866638\n",
                  "Epoch 139 train loss: 0.3730, eval loss 0.7000491619110107\n",
                  "Epoch 140 train loss: 0.3837, eval loss 0.6999812722206116\n",
                  "Epoch 141 train loss: 0.4070, eval loss 0.6999061703681946\n",
                  "Epoch 142 train loss: 0.3909, eval loss 0.6997432708740234\n",
                  "Epoch 143 train loss: 0.3721, eval loss 0.6996394395828247\n",
                  "Epoch 144 train loss: 0.3960, eval loss 0.6996048092842102\n",
                  "Epoch 145 train loss: 0.3412, eval loss 0.6994969844818115\n",
                  "Epoch 146 train loss: 0.3923, eval loss 0.699401319026947\n",
                  "Epoch 147 train loss: 0.3497, eval loss 0.6993119120597839\n",
                  "Epoch 148 train loss: 0.3676, eval loss 0.6991921067237854\n",
                  "Epoch 149 train loss: 0.3824, eval loss 0.69910728931427\n",
                  "Epoch 150 train loss: 0.4190, eval loss 0.6990888714790344\n",
                  "Epoch 151 train loss: 0.3945, eval loss 0.6990137696266174\n",
                  "Epoch 152 train loss: 0.3618, eval loss 0.6988955140113831\n",
                  "Epoch 153 train loss: 0.3755, eval loss 0.6988224387168884\n",
                  "Epoch 154 train loss: 0.3850, eval loss 0.6988486051559448\n",
                  "Epoch 155 train loss: 0.3706, eval loss 0.6987871527671814\n",
                  "Epoch 156 train loss: 0.3883, eval loss 0.6987345218658447\n",
                  "Epoch 157 train loss: 0.3462, eval loss 0.698570966720581\n",
                  "Epoch 158 train loss: 0.3960, eval loss 0.6984866261482239\n",
                  "Epoch 159 train loss: 0.3637, eval loss 0.6984786987304688\n",
                  "Epoch 160 train loss: 0.3766, eval loss 0.6983586549758911\n",
                  "Epoch 161 train loss: 0.3921, eval loss 0.6982896327972412\n",
                  "Epoch 162 train loss: 0.3806, eval loss 0.698162317276001\n",
                  "Epoch 163 train loss: 0.3793, eval loss 0.6981931328773499\n",
                  "Epoch 164 train loss: 0.3569, eval loss 0.6981144547462463\n",
                  "Epoch 165 train loss: 0.4012, eval loss 0.6980787515640259\n",
                  "Epoch 166 train loss: 0.3637, eval loss 0.6980832815170288\n",
                  "Epoch 167 train loss: 0.3842, eval loss 0.6980410814285278\n",
                  "Epoch 168 train loss: 0.3613, eval loss 0.6978885531425476\n",
                  "Epoch 169 train loss: 0.3537, eval loss 0.6978465914726257\n",
                  "Epoch 170 train loss: 0.3788, eval loss 0.6978740096092224\n",
                  "Epoch 171 train loss: 0.3824, eval loss 0.6977909803390503\n",
                  "Epoch 172 train loss: 0.4258, eval loss 0.6977401375770569\n",
                  "Epoch 173 train loss: 0.3682, eval loss 0.6976200938224792\n",
                  "Epoch 174 train loss: 0.3968, eval loss 0.6975609660148621\n",
                  "Epoch 175 train loss: 0.3820, eval loss 0.6974755525588989\n",
                  "Epoch 176 train loss: 0.3777, eval loss 0.6974267363548279\n",
                  "Epoch 177 train loss: 0.3399, eval loss 0.6974220275878906\n",
                  "Epoch 178 train loss: 0.3923, eval loss 0.6972808837890625\n",
                  "Epoch 179 train loss: 0.3640, eval loss 0.6973017454147339\n",
                  "Epoch 180 train loss: 0.3344, eval loss 0.6971954703330994\n",
                  "Epoch 181 train loss: 0.3882, eval loss 0.697188675403595\n",
                  "Epoch 182 train loss: 0.4038, eval loss 0.6971336007118225\n",
                  "Epoch 183 train loss: 0.3740, eval loss 0.6970739960670471\n",
                  "Epoch 184 train loss: 0.3452, eval loss 0.6969683766365051\n",
                  "Epoch 185 train loss: 0.3808, eval loss 0.6969091296195984\n",
                  "Epoch 186 train loss: 0.3722, eval loss 0.6968368887901306\n",
                  "Epoch 187 train loss: 0.3691, eval loss 0.6967808604240417\n",
                  "Epoch 188 train loss: 0.3739, eval loss 0.6967101693153381\n",
                  "Epoch 189 train loss: 0.3646, eval loss 0.6967282295227051\n",
                  "Epoch 190 train loss: 0.3722, eval loss 0.6966699361801147\n",
                  "Epoch 191 train loss: 0.3964, eval loss 0.6966126561164856\n",
                  "Epoch 192 train loss: 0.3689, eval loss 0.6965396404266357\n",
                  "Epoch 193 train loss: 0.3740, eval loss 0.6964724659919739\n",
                  "Epoch 194 train loss: 0.3574, eval loss 0.6964182257652283\n",
                  "Epoch 195 train loss: 0.3852, eval loss 0.696412980556488\n",
                  "Epoch 196 train loss: 0.3742, eval loss 0.6963791847229004\n",
                  "Epoch 197 train loss: 0.3756, eval loss 0.6962623000144958\n",
                  "Epoch 198 train loss: 0.3446, eval loss 0.6962553262710571\n",
                  "Epoch 199 train loss: 0.3515, eval loss 0.6961917281150818\n",
                  "Epoch 200 train loss: 0.3664, eval loss 0.6961643099784851\n",
                  "Epoch 201 train loss: 0.3664, eval loss 0.6961222290992737\n",
                  "Epoch 202 train loss: 0.3579, eval loss 0.696157693862915\n",
                  "Epoch 203 train loss: 0.3483, eval loss 0.696121096611023\n",
                  "Epoch 204 train loss: 0.3672, eval loss 0.6960309147834778\n",
                  "Epoch 205 train loss: 0.3510, eval loss 0.695958137512207\n",
                  "Epoch 206 train loss: 0.3535, eval loss 0.6959174871444702\n",
                  "Epoch 207 train loss: 0.3742, eval loss 0.6958576440811157\n",
                  "Epoch 208 train loss: 0.3822, eval loss 0.6959009766578674\n",
                  "Epoch 209 train loss: 0.3614, eval loss 0.6959084272384644\n",
                  "Epoch 210 train loss: 0.3402, eval loss 0.6958086490631104\n",
                  "Epoch 211 train loss: 0.3801, eval loss 0.6957381963729858\n",
                  "Epoch 212 train loss: 0.3714, eval loss 0.6957517266273499\n",
                  "Epoch 213 train loss: 0.3578, eval loss 0.6957147717475891\n",
                  "Epoch 214 train loss: 0.3799, eval loss 0.6955803036689758\n",
                  "Epoch 215 train loss: 0.3908, eval loss 0.69557124376297\n",
                  "Epoch 216 train loss: 0.3764, eval loss 0.6955131888389587\n",
                  "Epoch 217 train loss: 0.3670, eval loss 0.6955041289329529\n",
                  "Epoch 218 train loss: 0.3925, eval loss 0.6954675912857056\n",
                  "Epoch 219 train loss: 0.3679, eval loss 0.695378303527832\n",
                  "Epoch 220 train loss: 0.3915, eval loss 0.6952345371246338\n",
                  "Epoch 221 train loss: 0.3789, eval loss 0.6952188611030579\n",
                  "Epoch 222 train loss: 0.3814, eval loss 0.6951870322227478\n",
                  "Epoch 223 train loss: 0.3439, eval loss 0.6951576471328735\n",
                  "Epoch 224 train loss: 0.3517, eval loss 0.695186197757721\n",
                  "Epoch 225 train loss: 0.3721, eval loss 0.695132851600647\n",
                  "Epoch 226 train loss: 0.3704, eval loss 0.6950968503952026\n",
                  "Epoch 227 train loss: 0.3559, eval loss 0.6950641870498657\n",
                  "Epoch 228 train loss: 0.3676, eval loss 0.6951046586036682\n",
                  "Epoch 229 train loss: 0.4009, eval loss 0.6949816942214966\n",
                  "Epoch 230 train loss: 0.3603, eval loss 0.6949902176856995\n",
                  "Epoch 231 train loss: 0.3577, eval loss 0.6949203610420227\n",
                  "Epoch 232 train loss: 0.3527, eval loss 0.6948743462562561\n",
                  "Epoch 233 train loss: 0.3590, eval loss 0.6948593854904175\n",
                  "Epoch 234 train loss: 0.3846, eval loss 0.6947988867759705\n",
                  "Epoch 235 train loss: 0.3329, eval loss 0.6947816610336304\n",
                  "Epoch 236 train loss: 0.3520, eval loss 0.6947342753410339\n",
                  "Epoch 237 train loss: 0.3861, eval loss 0.6947342753410339\n",
                  "Epoch 238 train loss: 0.3775, eval loss 0.6946749091148376\n",
                  "Epoch 239 train loss: 0.3478, eval loss 0.6946093440055847\n",
                  "Epoch 240 train loss: 0.3567, eval loss 0.6946030855178833\n",
                  "Epoch 241 train loss: 0.3646, eval loss 0.6945913434028625\n",
                  "Epoch 242 train loss: 0.3585, eval loss 0.6945009827613831\n",
                  "Epoch 243 train loss: 0.3798, eval loss 0.6944630146026611\n",
                  "Epoch 244 train loss: 0.3486, eval loss 0.6944630146026611\n",
                  "Epoch 245 train loss: 0.3771, eval loss 0.6944074630737305\n",
                  "Epoch 246 train loss: 0.3716, eval loss 0.6943625807762146\n",
                  "Epoch 247 train loss: 0.3586, eval loss 0.6943219304084778\n",
                  "Epoch 248 train loss: 0.3515, eval loss 0.6943178772926331\n",
                  "Epoch 249 train loss: 0.3595, eval loss 0.6942819952964783\n",
                  "Epoch 250 train loss: 0.3509, eval loss 0.6942415237426758\n",
                  "Epoch 251 train loss: 0.3724, eval loss 0.69413161277771\n",
                  "Epoch 252 train loss: 0.3937, eval loss 0.6941002607345581\n",
                  "Epoch 253 train loss: 0.3556, eval loss 0.6941397190093994\n",
                  "Epoch 254 train loss: 0.3533, eval loss 0.6940828561782837\n",
                  "Epoch 255 train loss: 0.3463, eval loss 0.6940502524375916\n",
                  "Epoch 256 train loss: 0.3771, eval loss 0.6940412521362305\n",
                  "Epoch 257 train loss: 0.3476, eval loss 0.6939411759376526\n",
                  "Epoch 258 train loss: 0.3883, eval loss 0.6939167976379395\n",
                  "Epoch 259 train loss: 0.3683, eval loss 0.6939043998718262\n",
                  "Epoch 260 train loss: 0.3586, eval loss 0.6939064860343933\n",
                  "Epoch 261 train loss: 0.3563, eval loss 0.6938643455505371\n",
                  "Epoch 262 train loss: 0.3752, eval loss 0.693838357925415\n",
                  "Epoch 263 train loss: 0.3636, eval loss 0.6938549876213074\n",
                  "Epoch 264 train loss: 0.3580, eval loss 0.693751335144043\n",
                  "Epoch 265 train loss: 0.3663, eval loss 0.6937635540962219\n",
                  "Epoch 266 train loss: 0.3366, eval loss 0.6937275528907776\n",
                  "Epoch 267 train loss: 0.3592, eval loss 0.693719208240509\n",
                  "Epoch 268 train loss: 0.4020, eval loss 0.6936774849891663\n",
                  "Epoch 269 train loss: 0.3412, eval loss 0.6936253309249878\n",
                  "Epoch 270 train loss: 0.3501, eval loss 0.6935831904411316\n",
                  "Epoch 271 train loss: 0.3648, eval loss 0.6935334801673889\n",
                  "Epoch 272 train loss: 0.3525, eval loss 0.6935227513313293\n",
                  "Epoch 273 train loss: 0.3604, eval loss 0.6934824585914612\n",
                  "Epoch 274 train loss: 0.3413, eval loss 0.6934630274772644\n",
                  "Epoch 275 train loss: 0.3541, eval loss 0.6934196352958679\n",
                  "Epoch 276 train loss: 0.3787, eval loss 0.6934183835983276\n",
                  "Epoch 277 train loss: 0.3762, eval loss 0.6933903098106384\n",
                  "Epoch 278 train loss: 0.3698, eval loss 0.693381130695343\n",
                  "Epoch 279 train loss: 0.3599, eval loss 0.6933213472366333\n",
                  "Epoch 280 train loss: 0.3517, eval loss 0.693236231803894\n",
                  "Epoch 281 train loss: 0.3822, eval loss 0.6932327151298523\n",
                  "Epoch 282 train loss: 0.3599, eval loss 0.693189799785614\n",
                  "Epoch 283 train loss: 0.3719, eval loss 0.6931714415550232\n",
                  "Epoch 284 train loss: 0.3637, eval loss 0.6931570172309875\n",
                  "Epoch 285 train loss: 0.3850, eval loss 0.6931074261665344\n",
                  "Epoch 286 train loss: 0.3566, eval loss 0.6931962370872498\n",
                  "Epoch 287 train loss: 0.3585, eval loss 0.6930884122848511\n",
                  "Epoch 288 train loss: 0.3216, eval loss 0.6930122375488281\n",
                  "Epoch 289 train loss: 0.3377, eval loss 0.6930152177810669\n",
                  "Epoch 290 train loss: 0.3535, eval loss 0.6929815411567688\n",
                  "Epoch 291 train loss: 0.3734, eval loss 0.6929632425308228\n",
                  "Epoch 292 train loss: 0.3772, eval loss 0.693038821220398\n",
                  "Epoch 293 train loss: 0.3775, eval loss 0.6929932236671448\n",
                  "Epoch 294 train loss: 0.3595, eval loss 0.6929613947868347\n",
                  "Epoch 295 train loss: 0.3588, eval loss 0.6929251551628113\n",
                  "Epoch 296 train loss: 0.3799, eval loss 0.6929165124893188\n",
                  "Epoch 297 train loss: 0.3501, eval loss 0.6929336786270142\n",
                  "Epoch 298 train loss: 0.3550, eval loss 0.6928758025169373\n",
                  "Epoch 299 train loss: 0.3774, eval loss 0.6928018927574158\n"
               ]
            }
         ],
         "source": [
            "model = RegularizedMLP(\n",
            "    input_size=X_train.shape[1], \n",
            "    dropout_p=dropout_p\n",
            ")\n",
            "optimizer = torch.optim.SGD(\n",
            "    model.parameters(), \n",
            "    lr=learning_rate, \n",
            "    weight_decay=l2_reg\n",
            ")\n",
            "loss_fn = torch.nn.BCEWithLogitsLoss()\n",
            "\n",
            "train_dataset = MyDataset(X_train, y_train)\n",
            "train_dataloader = DataLoader(train_dataset, batch_size=batch_size)\n",
            "\n",
            "steps_without_improvement = 0\n",
            "\n",
            "best_val_loss = np.inf\n",
            "best_model = None\n",
            "best_threshold = None\n",
            "\n",
            "for epoch_num in range(max_epochs):\n",
            "    model.train()\n",
            "    \n",
            "    # note that we are using DataLoader to get batches\n",
            "    for X_batch, y_batch in train_dataloader:\n",
            "        outputs = model(X_batch)\n",
            "        loss = loss_fn(outputs, y_batch)\n",
            "        loss.backward()\n",
            "\n",
            "        optimizer.step()\n",
            "        optimizer.zero_grad()\n",
            "    \n",
            "    model.eval()\n",
            "    valid_metrics = evaluate_model(model, X_valid, y_valid, loss_fn)\n",
            "\n",
            "    if valid_metrics[\"loss\"] < best_val_loss:\n",
            "        best_val_loss = valid_metrics[\"loss\"]\n",
            "        steps_without_improvement = 0\n",
            "        best_model = deepcopy(model)\n",
            "        best_threshold = valid_metrics[\"optimal_threshold\"]\n",
            "    else:\n",
            "        steps_without_improvement += 1\n",
            "        if steps_without_improvement == early_stopping_patience: break\n",
            "    \n",
            "    print(f\"Epoch {epoch_num} train loss: {loss.item():.4f}, eval loss {valid_metrics['loss']}\")"
         ]
      },
      {
         "cell_type": "code",
         "execution_count": 97,
         "metadata": {},
         "outputs": [
            {
               "name": "stdout",
               "output_type": "stream",
               "text": [
                  "AUROC: 90.31%\n",
                  "F1: 68.56%\n",
                  "Precision: 64.08%\n",
                  "Recall: 73.72%\n"
               ]
            }
         ],
         "source": [
            "test_metrics = evaluate_model(best_model, X_test, y_test, loss_fn, best_threshold)\n",
            "\n",
            "print(f\"AUROC: {100 * test_metrics['AUROC']:.2f}%\")\n",
            "print(f\"F1: {100 * test_metrics['F1-score']:.2f}%\")\n",
            "print(f\"Precision: {100 * test_metrics['precision']:.2f}%\")\n",
            "print(f\"Recall: {100 * test_metrics['recall']:.2f}%\")"
         ]
      },
      {
         "cell_type": "markdown",
         "metadata": {},
         "source": [
            "Wyniki wyglądają już dużo lepiej.\n",
            "\n",
            "Na koniec laboratorium dołożymy do naszego modelu jeszcze 3 powszechnie używane techniki, które są bardzo proste, a pozwalają często ulepszyć wynik modelu.\n",
            "\n",
            "Pierwszą z nich są **warstwy normalizacji (normalization layers)**. Powstały one początkowo z założeniem, że przez przekształcenia przestrzeni dokonywane przez sieć zmienia się rozkład prawdopodobieństw pomiędzy warstwami, czyli tzw. *internal covariate shift*. Później okazało się, że zastosowanie takiej normalizacji wygładza powierzchnię funkcji kosztu, co ułatwia i przyspiesza optymalizację. Najpowszechniej używaną normalizacją jest **batch normalization (batch norm)**.\n",
            "\n",
            "Drugim ulepszeniem jest dodanie **wag klas (class weights)**. Mamy do czynienia z problemem klasyfikacji niezbalansowanej, więc klasa mniejszościowa, ważniejsza dla nas, powinna dostać większą wagę. Implementuje się to trywialnie prosto - po prostu mnożymy wartość funkcji kosztu dla danego przykładu przez wagę dla prawdziwej klasy tego przykładu. Praktycznie każdy klasyfikator operujący na jakiejś ważonej funkcji może działać w ten sposób, nie tylko sieci neuronowe.\n",
            "\n",
            "Ostatnim ulepszeniem jest zamiana SGD na optymalizator Adam, a konkretnie na optymalizator `AdamW`. Jest to przykład **optymalizatora adaptacyjnego (adaptive optimizer)**, który potrafi zaadaptować stałą uczącą dla każdego parametru z osobna w trakcie treningu. Wykorzystuje do tego gradienty - w uproszczeniu, im większa wariancja gradientu, tym mniejsze kroki w tym kierunku robimy."
         ]
      },
      {
         "cell_type": "markdown",
         "metadata": {},
         "source": [
            "#### Zadanie 8 (0.5 punktu)\n",
            "\n",
            "Zaimplementuj model `NormalizingMLP`, o takiej samej strukturze jak `RegularizedMLP`, ale dodatkowo z warstwami `BatchNorm1d` pomiędzy warstwami `Linear` oraz `ReLU`.\n",
            "\n",
            "Za pomocą funkcji `compute_class_weight()` oblicz wagi dla poszczególnych klas. Użyj opcji `\"balanced\"`. Przekaż do funkcji kosztu wagę klasy pozytywnej (pamiętaj, aby zamienić ją na tensor).\n",
            "\n",
            "Zamień używany optymalizator na `AdamW`.\n",
            "\n",
            "Na koniec skopiuj resztę kodu do treningu z poprzedniego zadania, wytrenuj sieć i oblicz wyniki na zbiorze testowym."
         ]
      },
      {
         "cell_type": "code",
         "execution_count": 98,
         "metadata": {},
         "outputs": [],
         "source": [
            "class NormalizingMLP(nn.Module):\n",
            "    def __init__(self, input_size: int, dropout_p: float = 0.5):\n",
            "        super().__init__()\n",
            "\n",
            "        self.mlp = nn.Sequential(\n",
            "            nn.Linear(input_size, 256),\n",
            "            nn.BatchNorm1d(256),\n",
            "            nn.ReLU(),\n",
            "            nn.Dropout(p=0.5),\n",
            "            nn.Linear(256, 128),\n",
            "            nn.BatchNorm1d(128),\n",
            "            nn.ReLU(),\n",
            "            nn.Dropout(p=0.5),\n",
            "            nn.Linear(128, 1),\n",
            "        )\n",
            "    \n",
            "    def forward(self, x):\n",
            "        return self.mlp(x)\n",
            "\n",
            "    def predict_proba(self, x):\n",
            "        return sigmoid(self(x))\n",
            "    \n",
            "    def predict(self, x, threshold: float = 0.5):\n",
            "        y_pred_score = self.predict_proba(x)\n",
            "        return (y_pred_score > threshold).to(torch.int32)\n"
         ]
      },
      {
         "cell_type": "code",
         "execution_count": 99,
         "metadata": {},
         "outputs": [],
         "source": [
            "from sklearn.utils.class_weight import compute_class_weight\n",
            "\n",
            "# define all the hyperparameters\n",
            "learning_rate = 1e-3\n",
            "dropout_p = 0.5\n",
            "l2_reg = 1e-4\n",
            "weight_decay = compute_class_weight(class_weight=\"balanced\", classes=np.unique(y), y=y)\n",
            "batch_size = 128\n",
            "max_epochs = 300\n",
            "\n",
            "early_stopping_patience = 4"
         ]
      },
      {
         "cell_type": "code",
         "execution_count": 100,
         "metadata": {
            "scrolled": true
         },
         "outputs": [
            {
               "name": "stdout",
               "output_type": "stream",
               "text": [
                  "Epoch 0 train loss: 0.5339, eval loss 0.8229557871818542\n",
                  "Epoch 1 train loss: 0.6458, eval loss 0.8172731399536133\n",
                  "Epoch 2 train loss: 0.5843, eval loss 0.8155043125152588\n",
                  "Epoch 3 train loss: 0.5465, eval loss 0.814119279384613\n",
                  "Epoch 4 train loss: 0.5319, eval loss 0.8125540614128113\n",
                  "Epoch 5 train loss: 0.4770, eval loss 0.8119991421699524\n",
                  "Epoch 6 train loss: 0.6013, eval loss 0.812252402305603\n",
                  "Epoch 7 train loss: 0.6136, eval loss 0.812304675579071\n",
                  "Epoch 8 train loss: 0.5011, eval loss 0.810620903968811\n",
                  "Epoch 9 train loss: 0.5594, eval loss 0.8106594085693359\n",
                  "Epoch 10 train loss: 0.5413, eval loss 0.8095850348472595\n",
                  "Epoch 11 train loss: 0.4990, eval loss 0.8101397752761841\n",
                  "Epoch 12 train loss: 0.4933, eval loss 0.8101373314857483\n",
                  "Epoch 13 train loss: 0.5862, eval loss 0.809466540813446\n",
                  "Epoch 14 train loss: 0.4853, eval loss 0.8087807893753052\n",
                  "Epoch 15 train loss: 0.5481, eval loss 0.8087943196296692\n",
                  "Epoch 16 train loss: 0.5023, eval loss 0.808587372303009\n",
                  "Epoch 17 train loss: 0.4684, eval loss 0.8089891672134399\n",
                  "Epoch 18 train loss: 0.4897, eval loss 0.8097577691078186\n",
                  "Epoch 19 train loss: 0.4268, eval loss 0.8085980415344238\n",
                  "Epoch 20 train loss: 0.4275, eval loss 0.8085388541221619\n",
                  "Epoch 21 train loss: 0.4685, eval loss 0.8082623481750488\n",
                  "Epoch 22 train loss: 0.5024, eval loss 0.8077688217163086\n",
                  "Epoch 23 train loss: 0.4443, eval loss 0.8087583184242249\n",
                  "Epoch 24 train loss: 0.5091, eval loss 0.8083219528198242\n",
                  "Epoch 25 train loss: 0.4839, eval loss 0.8075734972953796\n",
                  "Epoch 26 train loss: 0.5072, eval loss 0.8073602318763733\n",
                  "Epoch 27 train loss: 0.4568, eval loss 0.8077279925346375\n",
                  "Epoch 28 train loss: 0.5121, eval loss 0.8075816035270691\n",
                  "Epoch 29 train loss: 0.3970, eval loss 0.8067781329154968\n",
                  "Epoch 30 train loss: 0.4963, eval loss 0.8068543076515198\n",
                  "Epoch 31 train loss: 0.4675, eval loss 0.8070895671844482\n",
                  "Epoch 32 train loss: 0.4780, eval loss 0.8079278469085693\n"
               ]
            }
         ],
         "source": [
            "model = NormalizingMLP(\n",
            "    input_size=X_train.shape[1], \n",
            "    dropout_p=dropout_p\n",
            ")\n",
            "optimizer = torch.optim.AdamW(\n",
            "    model.parameters(), \n",
            "    lr=learning_rate, \n",
            "    weight_decay=l2_reg\n",
            ")\n",
            "loss_fn = torch.nn.BCEWithLogitsLoss(pos_weight=torch.from_numpy(weight_decay)[1])\n",
            "\n",
            "train_dataset = MyDataset(X_train, y_train)\n",
            "train_dataloader = DataLoader(train_dataset, batch_size=batch_size)\n",
            "\n",
            "steps_without_improvement = 0\n",
            "\n",
            "best_val_loss = np.inf\n",
            "best_model = None\n",
            "best_threshold = None\n",
            "\n",
            "for epoch_num in range(max_epochs):\n",
            "    model.train()\n",
            "    \n",
            "    # note that we are using DataLoader to get batches\n",
            "    for X_batch, y_batch in train_dataloader:\n",
            "        outputs = model(X_batch)\n",
            "        loss = loss_fn(outputs, y_batch)\n",
            "        loss.backward()\n",
            "\n",
            "        optimizer.step()\n",
            "        optimizer.zero_grad()\n",
            "    \n",
            "    model.eval()\n",
            "    valid_metrics = evaluate_model(model, X_valid, y_valid, loss_fn)\n",
            "\n",
            "    if valid_metrics[\"loss\"] < best_val_loss:\n",
            "        best_val_loss = valid_metrics[\"loss\"]\n",
            "        steps_without_improvement = 0\n",
            "        best_model = deepcopy(model)\n",
            "        best_threshold = valid_metrics[\"optimal_threshold\"]\n",
            "    else:\n",
            "        steps_without_improvement += 1\n",
            "        if steps_without_improvement == early_stopping_patience: break\n",
            "    \n",
            "    print(f\"Epoch {epoch_num} train loss: {loss.item():.4f}, eval loss {valid_metrics['loss']}\")"
         ]
      },
      {
         "cell_type": "code",
         "execution_count": 101,
         "metadata": {
            "scrolled": true
         },
         "outputs": [
            {
               "name": "stdout",
               "output_type": "stream",
               "text": [
                  "AUROC: 90.59%\n",
                  "F1: 69.44%\n",
                  "Precision: 62.46%\n",
                  "Recall: 78.19%\n"
               ]
            }
         ],
         "source": [
            "test_metrics = evaluate_model(best_model, X_test, y_test, loss_fn, best_threshold)\n",
            "\n",
            "print(f\"AUROC: {100 * test_metrics['AUROC']:.2f}%\")\n",
            "print(f\"F1: {100 * test_metrics['F1-score']:.2f}%\")\n",
            "print(f\"Precision: {100 * test_metrics['precision']:.2f}%\")\n",
            "print(f\"Recall: {100 * test_metrics['recall']:.2f}%\")"
         ]
      },
      {
         "cell_type": "markdown",
         "metadata": {
            "id": "XyoRnHT4GFR9"
         },
         "source": [
            "## Akceleracja sprzętowa (dla zainteresowanych)"
         ]
      },
      {
         "cell_type": "markdown",
         "metadata": {},
         "source": [
            "Jak wcześniej wspominaliśmy, użycie akceleracji sprzętowej, czyli po prostu GPU do obliczeń, jest bardzo efektywne w przypadku sieci neuronowych. Karty graficzne bardzo efektywnie mnożą macierze, a sieci neuronowe to, jak można było się przekonać, dużo mnożenia macierzy.\n",
            "\n",
            "W PyTorchu jest to dosyć łatwe, ale trzeba robić to explicite. Służy do tego metoda `.to()`, która przenosi tensory między CPU i GPU. Poniżej przykład, jak to się robi (oczywiście trzeba mieć skonfigurowane GPU, żeby działało):"
         ]
      },
      {
         "cell_type": "code",
         "execution_count": 102,
         "metadata": {},
         "outputs": [
            {
               "ename": "AssertionError",
               "evalue": "Torch not compiled with CUDA enabled",
               "output_type": "error",
               "traceback": [
                  "\u001b[0;31m---------------------------------------------------------------------------\u001b[0m",
                  "\u001b[0;31mAssertionError\u001b[0m                            Traceback (most recent call last)",
                  "\u001b[1;32m/home/dominiq/Pulpit/Semestr_V/PSI/lab3/lab_3.ipynb Komórka 86\u001b[0m line \u001b[0;36m3\n\u001b[1;32m     <a href='vscode-notebook-cell:/home/dominiq/Pulpit/Semestr_V/PSI/lab3/lab_3.ipynb#Y151sZmlsZQ%3D%3D?line=34'>35</a>\u001b[0m         y_pred_score \u001b[39m=\u001b[39m \u001b[39mself\u001b[39m\u001b[39m.\u001b[39mpredict_proba(x)\n\u001b[1;32m     <a href='vscode-notebook-cell:/home/dominiq/Pulpit/Semestr_V/PSI/lab3/lab_3.ipynb#Y151sZmlsZQ%3D%3D?line=35'>36</a>\u001b[0m         \u001b[39mreturn\u001b[39;00m (y_pred_score \u001b[39m>\u001b[39m threshold)\u001b[39m.\u001b[39mto(torch\u001b[39m.\u001b[39mint32)\n\u001b[0;32m---> <a href='vscode-notebook-cell:/home/dominiq/Pulpit/Semestr_V/PSI/lab3/lab_3.ipynb#Y151sZmlsZQ%3D%3D?line=38'>39</a>\u001b[0m model \u001b[39m=\u001b[39m CudaMLP(X_train\u001b[39m.\u001b[39;49mshape[\u001b[39m1\u001b[39;49m])\u001b[39m.\u001b[39;49mto(\u001b[39m'\u001b[39;49m\u001b[39mcuda\u001b[39;49m\u001b[39m'\u001b[39;49m)\n\u001b[1;32m     <a href='vscode-notebook-cell:/home/dominiq/Pulpit/Semestr_V/PSI/lab3/lab_3.ipynb#Y151sZmlsZQ%3D%3D?line=40'>41</a>\u001b[0m optimizer \u001b[39m=\u001b[39m torch\u001b[39m.\u001b[39moptim\u001b[39m.\u001b[39mAdamW(model\u001b[39m.\u001b[39mparameters(), lr\u001b[39m=\u001b[39mlearning_rate, weight_decay\u001b[39m=\u001b[39m\u001b[39m1e-4\u001b[39m)\n\u001b[1;32m     <a href='vscode-notebook-cell:/home/dominiq/Pulpit/Semestr_V/PSI/lab3/lab_3.ipynb#Y151sZmlsZQ%3D%3D?line=42'>43</a>\u001b[0m \u001b[39m# note that we are using loss function with sigmoid built in\u001b[39;00m\n",
                  "File \u001b[0;32m~/anaconda3/lib/python3.10/site-packages/torch/nn/modules/module.py:1160\u001b[0m, in \u001b[0;36mModule.to\u001b[0;34m(self, *args, **kwargs)\u001b[0m\n\u001b[1;32m   1156\u001b[0m         \u001b[39mreturn\u001b[39;00m t\u001b[39m.\u001b[39mto(device, dtype \u001b[39mif\u001b[39;00m t\u001b[39m.\u001b[39mis_floating_point() \u001b[39mor\u001b[39;00m t\u001b[39m.\u001b[39mis_complex() \u001b[39melse\u001b[39;00m \u001b[39mNone\u001b[39;00m,\n\u001b[1;32m   1157\u001b[0m                     non_blocking, memory_format\u001b[39m=\u001b[39mconvert_to_format)\n\u001b[1;32m   1158\u001b[0m     \u001b[39mreturn\u001b[39;00m t\u001b[39m.\u001b[39mto(device, dtype \u001b[39mif\u001b[39;00m t\u001b[39m.\u001b[39mis_floating_point() \u001b[39mor\u001b[39;00m t\u001b[39m.\u001b[39mis_complex() \u001b[39melse\u001b[39;00m \u001b[39mNone\u001b[39;00m, non_blocking)\n\u001b[0;32m-> 1160\u001b[0m \u001b[39mreturn\u001b[39;00m \u001b[39mself\u001b[39;49m\u001b[39m.\u001b[39;49m_apply(convert)\n",
                  "File \u001b[0;32m~/anaconda3/lib/python3.10/site-packages/torch/nn/modules/module.py:810\u001b[0m, in \u001b[0;36mModule._apply\u001b[0;34m(self, fn, recurse)\u001b[0m\n\u001b[1;32m    808\u001b[0m \u001b[39mif\u001b[39;00m recurse:\n\u001b[1;32m    809\u001b[0m     \u001b[39mfor\u001b[39;00m module \u001b[39min\u001b[39;00m \u001b[39mself\u001b[39m\u001b[39m.\u001b[39mchildren():\n\u001b[0;32m--> 810\u001b[0m         module\u001b[39m.\u001b[39;49m_apply(fn)\n\u001b[1;32m    812\u001b[0m \u001b[39mdef\u001b[39;00m \u001b[39mcompute_should_use_set_data\u001b[39m(tensor, tensor_applied):\n\u001b[1;32m    813\u001b[0m     \u001b[39mif\u001b[39;00m torch\u001b[39m.\u001b[39m_has_compatible_shallow_copy_type(tensor, tensor_applied):\n\u001b[1;32m    814\u001b[0m         \u001b[39m# If the new tensor has compatible tensor type as the existing tensor,\u001b[39;00m\n\u001b[1;32m    815\u001b[0m         \u001b[39m# the current behavior is to change the tensor in-place using `.data =`,\u001b[39;00m\n\u001b[0;32m   (...)\u001b[0m\n\u001b[1;32m    820\u001b[0m         \u001b[39m# global flag to let the user control whether they want the future\u001b[39;00m\n\u001b[1;32m    821\u001b[0m         \u001b[39m# behavior of overwriting the existing tensor or not.\u001b[39;00m\n",
                  "File \u001b[0;32m~/anaconda3/lib/python3.10/site-packages/torch/nn/modules/module.py:810\u001b[0m, in \u001b[0;36mModule._apply\u001b[0;34m(self, fn, recurse)\u001b[0m\n\u001b[1;32m    808\u001b[0m \u001b[39mif\u001b[39;00m recurse:\n\u001b[1;32m    809\u001b[0m     \u001b[39mfor\u001b[39;00m module \u001b[39min\u001b[39;00m \u001b[39mself\u001b[39m\u001b[39m.\u001b[39mchildren():\n\u001b[0;32m--> 810\u001b[0m         module\u001b[39m.\u001b[39;49m_apply(fn)\n\u001b[1;32m    812\u001b[0m \u001b[39mdef\u001b[39;00m \u001b[39mcompute_should_use_set_data\u001b[39m(tensor, tensor_applied):\n\u001b[1;32m    813\u001b[0m     \u001b[39mif\u001b[39;00m torch\u001b[39m.\u001b[39m_has_compatible_shallow_copy_type(tensor, tensor_applied):\n\u001b[1;32m    814\u001b[0m         \u001b[39m# If the new tensor has compatible tensor type as the existing tensor,\u001b[39;00m\n\u001b[1;32m    815\u001b[0m         \u001b[39m# the current behavior is to change the tensor in-place using `.data =`,\u001b[39;00m\n\u001b[0;32m   (...)\u001b[0m\n\u001b[1;32m    820\u001b[0m         \u001b[39m# global flag to let the user control whether they want the future\u001b[39;00m\n\u001b[1;32m    821\u001b[0m         \u001b[39m# behavior of overwriting the existing tensor or not.\u001b[39;00m\n",
                  "File \u001b[0;32m~/anaconda3/lib/python3.10/site-packages/torch/nn/modules/module.py:833\u001b[0m, in \u001b[0;36mModule._apply\u001b[0;34m(self, fn, recurse)\u001b[0m\n\u001b[1;32m    829\u001b[0m \u001b[39m# Tensors stored in modules are graph leaves, and we don't want to\u001b[39;00m\n\u001b[1;32m    830\u001b[0m \u001b[39m# track autograd history of `param_applied`, so we have to use\u001b[39;00m\n\u001b[1;32m    831\u001b[0m \u001b[39m# `with torch.no_grad():`\u001b[39;00m\n\u001b[1;32m    832\u001b[0m \u001b[39mwith\u001b[39;00m torch\u001b[39m.\u001b[39mno_grad():\n\u001b[0;32m--> 833\u001b[0m     param_applied \u001b[39m=\u001b[39m fn(param)\n\u001b[1;32m    834\u001b[0m should_use_set_data \u001b[39m=\u001b[39m compute_should_use_set_data(param, param_applied)\n\u001b[1;32m    835\u001b[0m \u001b[39mif\u001b[39;00m should_use_set_data:\n",
                  "File \u001b[0;32m~/anaconda3/lib/python3.10/site-packages/torch/nn/modules/module.py:1158\u001b[0m, in \u001b[0;36mModule.to.<locals>.convert\u001b[0;34m(t)\u001b[0m\n\u001b[1;32m   1155\u001b[0m \u001b[39mif\u001b[39;00m convert_to_format \u001b[39mis\u001b[39;00m \u001b[39mnot\u001b[39;00m \u001b[39mNone\u001b[39;00m \u001b[39mand\u001b[39;00m t\u001b[39m.\u001b[39mdim() \u001b[39min\u001b[39;00m (\u001b[39m4\u001b[39m, \u001b[39m5\u001b[39m):\n\u001b[1;32m   1156\u001b[0m     \u001b[39mreturn\u001b[39;00m t\u001b[39m.\u001b[39mto(device, dtype \u001b[39mif\u001b[39;00m t\u001b[39m.\u001b[39mis_floating_point() \u001b[39mor\u001b[39;00m t\u001b[39m.\u001b[39mis_complex() \u001b[39melse\u001b[39;00m \u001b[39mNone\u001b[39;00m,\n\u001b[1;32m   1157\u001b[0m                 non_blocking, memory_format\u001b[39m=\u001b[39mconvert_to_format)\n\u001b[0;32m-> 1158\u001b[0m \u001b[39mreturn\u001b[39;00m t\u001b[39m.\u001b[39;49mto(device, dtype \u001b[39mif\u001b[39;49;00m t\u001b[39m.\u001b[39;49mis_floating_point() \u001b[39mor\u001b[39;49;00m t\u001b[39m.\u001b[39;49mis_complex() \u001b[39melse\u001b[39;49;00m \u001b[39mNone\u001b[39;49;00m, non_blocking)\n",
                  "File \u001b[0;32m~/anaconda3/lib/python3.10/site-packages/torch/cuda/__init__.py:289\u001b[0m, in \u001b[0;36m_lazy_init\u001b[0;34m()\u001b[0m\n\u001b[1;32m    284\u001b[0m     \u001b[39mraise\u001b[39;00m \u001b[39mRuntimeError\u001b[39;00m(\n\u001b[1;32m    285\u001b[0m         \u001b[39m\"\u001b[39m\u001b[39mCannot re-initialize CUDA in forked subprocess. To use CUDA with \u001b[39m\u001b[39m\"\u001b[39m\n\u001b[1;32m    286\u001b[0m         \u001b[39m\"\u001b[39m\u001b[39mmultiprocessing, you must use the \u001b[39m\u001b[39m'\u001b[39m\u001b[39mspawn\u001b[39m\u001b[39m'\u001b[39m\u001b[39m start method\u001b[39m\u001b[39m\"\u001b[39m\n\u001b[1;32m    287\u001b[0m     )\n\u001b[1;32m    288\u001b[0m \u001b[39mif\u001b[39;00m \u001b[39mnot\u001b[39;00m \u001b[39mhasattr\u001b[39m(torch\u001b[39m.\u001b[39m_C, \u001b[39m\"\u001b[39m\u001b[39m_cuda_getDeviceCount\u001b[39m\u001b[39m\"\u001b[39m):\n\u001b[0;32m--> 289\u001b[0m     \u001b[39mraise\u001b[39;00m \u001b[39mAssertionError\u001b[39;00m(\u001b[39m\"\u001b[39m\u001b[39mTorch not compiled with CUDA enabled\u001b[39m\u001b[39m\"\u001b[39m)\n\u001b[1;32m    290\u001b[0m \u001b[39mif\u001b[39;00m _cudart \u001b[39mis\u001b[39;00m \u001b[39mNone\u001b[39;00m:\n\u001b[1;32m    291\u001b[0m     \u001b[39mraise\u001b[39;00m \u001b[39mAssertionError\u001b[39;00m(\n\u001b[1;32m    292\u001b[0m         \u001b[39m\"\u001b[39m\u001b[39mlibcudart functions unavailable. It looks like you have a broken build?\u001b[39m\u001b[39m\"\u001b[39m\n\u001b[1;32m    293\u001b[0m     )\n",
                  "\u001b[0;31mAssertionError\u001b[0m: Torch not compiled with CUDA enabled"
               ]
            }
         ],
         "source": [
            "import time \n",
            "\n",
            "\n",
            "class CudaMLP(nn.Module):\n",
            "    def __init__(self, input_size: int, dropout_p: float = 0.5):\n",
            "        super().__init__()\n",
            "\n",
            "        self.mlp = nn.Sequential(\n",
            "            nn.Linear(input_size, 512),\n",
            "            nn.BatchNorm1d(512),\n",
            "            nn.ReLU(),\n",
            "            nn.Dropout(dropout_p),\n",
            "            nn.Linear(512, 256),\n",
            "            nn.BatchNorm1d(256),\n",
            "            nn.ReLU(),\n",
            "            nn.Dropout(dropout_p),\n",
            "            nn.Linear(256, 256),\n",
            "            nn.BatchNorm1d(256),\n",
            "            nn.ReLU(),\n",
            "            nn.Dropout(dropout_p),\n",
            "            nn.Linear(256, 128),\n",
            "            nn.BatchNorm1d(128),\n",
            "            nn.ReLU(),\n",
            "            nn.Dropout(dropout_p),\n",
            "            nn.Linear(128, 1),\n",
            "        )\n",
            "    \n",
            "    def forward(self, x):\n",
            "        return self.mlp(x)\n",
            "\n",
            "    def predict_proba(self, x):\n",
            "        return sigmoid(self(x))\n",
            "    \n",
            "    def predict(self, x, threshold: float = 0.5):\n",
            "        y_pred_score = self.predict_proba(x)\n",
            "        return (y_pred_score > threshold).to(torch.int32)\n",
            "\n",
            "\n",
            "model = CudaMLP(X_train.shape[1]).to('cuda')\n",
            "\n",
            "optimizer = torch.optim.AdamW(model.parameters(), lr=learning_rate, weight_decay=1e-4)\n",
            "\n",
            "# note that we are using loss function with sigmoid built in\n",
            "loss_fn = torch.nn.BCEWithLogitsLoss(pos_weight=torch.from_numpy(weights)[1].to('cuda'))\n",
            "\n",
            "step_counter = 0\n",
            "time_from_eval = time.time()\n",
            "for epoch_id in range(30):\n",
            "    for batch_x, batch_y in train_dataloader:\n",
            "        batch_x = batch_x.to('cuda')\n",
            "        batch_y = batch_y.to('cuda')\n",
            "        \n",
            "        loss = loss_fn(model(batch_x), batch_y)\n",
            "        loss.backward()\n",
            "\n",
            "        optimizer.step()\n",
            "        optimizer.zero_grad()\n",
            "        \n",
            "        if step_counter % evaluation_steps == 0:\n",
            "            print(f\"Epoch {epoch_id} train loss: {loss.item():.4f}, time: {time.time() - time_from_eval}\")\n",
            "            time_from_eval = time.time()\n",
            "\n",
            "        step_counter += 1\n",
            "\n",
            "test_res = evaluate_model(model.to('cpu'), X_test, y_test, loss_fn.to('cpu'), threshold=0.5)\n",
            "\n",
            "print(f\"AUROC: {100 * test_res['AUROC']:.2f}%\")\n",
            "print(f\"F1: {100 * test_res['F1-score']:.2f}%\")\n",
            "print(test_res)"
         ]
      },
      {
         "cell_type": "markdown",
         "metadata": {},
         "source": [
            "Co prawda ten model nie będzie tak dobry jak ten z laboratorium, ale zwróć uwagę, o ile jest większy, a przy tym szybszy.\n",
            "\n",
            "Dla zainteresowanych polecamy [tę serie artykułów](https://medium.com/@adi.fu7/ai-accelerators-part-i-intro-822c2cdb4ca4)"
         ]
      },
      {
         "cell_type": "markdown",
         "metadata": {},
         "source": [
            "## Zadanie dla chętnych"
         ]
      },
      {
         "cell_type": "markdown",
         "metadata": {},
         "source": [
            "Jak widzieliśmy, sieci neuronowe mają bardzo dużo hiperparametrów. Przeszukiwanie ich grid search'em jest więc niewykonalne, a chociaż random search by działał, to potrzebowałby wielu iteracji, co też jest kosztowne obliczeniowo.\n",
            "\n",
            "Zaimplementuj inteligentne przeszukiwanie przestrzeni hiperparametrów za pomocą biblioteki [Optuna](https://optuna.org/). Implementuje ona między innymi algorytm Tree Parzen Estimator (TPE), należący do grupy algorytmów typu Bayesian search. Typowo osiągają one bardzo dobre wyniki, a właściwie zawsze lepsze od przeszukiwania losowego. Do tego wystarcza im często niewielka liczba kroków.\n",
            "\n",
            "Zaimplementuj 3-warstwową sieć MLP, gdzie pierwsza warstwa ma rozmiar ukryty N, a druga N // 2. Ucz ją optymalizatorem Adam przez maksymalnie 300 epok z cierpliwością 10.\n",
            "\n",
            "Przeszukaj wybrane zakresy dla hiperparametrów:\n",
            "- rozmiar warstw ukrytych (N)\n",
            "- stała ucząca\n",
            "- batch size\n",
            "- siła regularyzacji L2\n",
            "- prawdopodobieństwo dropoutu\n",
            "\n",
            "Wykorzystaj przynajmniej 30 iteracji. Następnie przełącz algorytm na losowy (Optuna także jego implementuje), wykonaj 30 iteracji i porównaj jakość wyników.\n",
            "\n",
            "Przydatne materiały:\n",
            "- [Optuna code examples - PyTorch](https://optuna.org/#code_examples)\n",
            "- [Auto-Tuning Hyperparameters with Optuna and PyTorch](https://www.youtube.com/watch?v=P6NwZVl8ttc)\n",
            "- [Hyperparameter Tuning of Neural Networks with Optuna and PyTorch](https://towardsdatascience.com/hyperparameter-tuning-of-neural-networks-with-optuna-and-pytorch-22e179efc837)\n",
            "- [Using Optuna to Optimize PyTorch Hyperparameters](https://medium.com/pytorch/using-optuna-to-optimize-pytorch-hyperparameters-990607385e36)"
         ]
      },
      {
         "cell_type": "markdown",
         "metadata": {},
         "source": [
            "Chyba działa"
         ]
      },
      {
         "cell_type": "code",
         "execution_count": 225,
         "metadata": {},
         "outputs": [],
         "source": [
            "import optuna\n",
            "from optuna import trial\n",
            "\n",
            "class MLPModel(nn.Module):\n",
            "    def __init__(self, input_size, N, dropout_p) -> None:\n",
            "        super().__init__()\n",
            "\n",
            "        self.mlp = nn.Sequential(\n",
            "            nn.Linear(input_size, N),\n",
            "            nn.ReLU(),\n",
            "            nn.Dropout(dropout_p), \n",
            "            nn.Linear(N, N//2), \n",
            "            nn.ReLU(),\n",
            "            nn.Dropout(dropout_p), \n",
            "            nn.Linear(N//2, 1)\n",
            "        )\n",
            "\n",
            "    def forward(self, x):\n",
            "        return self.mlp(x)\n",
            "\n",
            "    def predict_proba(self, x):\n",
            "        return sigmoid(self(x))\n",
            "    \n",
            "    def predict(self, x, threshold: float = 0.5):\n",
            "        y_pred_score = self.predict_proba(x)\n",
            "        return (y_pred_score > threshold).to(torch.int32)"
         ]
      },
      {
         "cell_type": "code",
         "execution_count": 226,
         "metadata": {},
         "outputs": [],
         "source": [
            "early_stopping_patience = 10\n",
            "max_epochs = 300\n",
            "\n",
            "def train_loop(model, optimizer, loss_fn, train_dataloader):\n",
            "    steps_without_improvement = 0\n",
            "    best_val_loss = np.inf\n",
            "    best_model = None\n",
            "        \n",
            "    for epoch in range(max_epochs):\n",
            "        model.train()\n",
            "        \n",
            "        for X_batch, y_batch in train_dataloader:\n",
            "            outputs = model(X_batch)\n",
            "            loss = loss_fn(outputs, y_batch)\n",
            "            loss.backward()\n",
            "\n",
            "            optimizer.step()\n",
            "            optimizer.zero_grad()\n",
            "            \n",
            "        model.eval()\n",
            "        y_predict_proba = None\n",
            "\n",
            "        with torch.no_grad():\n",
            "            y_predict_proba = model.predict_proba(X_valid)\n",
            "        \n",
            "        if loss < best_val_loss:\n",
            "            best_val_loss = loss\n",
            "            steps_without_improvement = 0\n",
            "            best_model = deepcopy(model)\n",
            "        else:\n",
            "            steps_without_improvement += 1\n",
            "            if steps_without_improvement == early_stopping_patience:\n",
            "                return best_model\n",
            "            \n",
            "    return best_model"
         ]
      },
      {
         "cell_type": "code",
         "execution_count": 227,
         "metadata": {},
         "outputs": [],
         "source": [
            "import torch.nn.functional as F\n",
            "from sklearn.metrics import accuracy_score\n",
            "\n",
            "def objective(trial):\n",
            "    N               = trial.suggest_int('N', 16, 512, log = True)\n",
            "    learning_rate   = trial.suggest_float('learning_rate', 1e-5, 1e-2)\n",
            "    batch_size      = trial.suggest_categorical('batch_size', [16, 32, 64, 128])\n",
            "    l2_strength     = trial.suggest_float('l2_strength', 1e-5, 1e-2)\n",
            "    dropout_prob    = trial.suggest_float('dropout_prob', 0.0, 0.5)\n",
            "\n",
            "    model = MLPModel(X_train.shape[1], N, dropout_prob)\n",
            "    loss_fn = torch.nn.BCEWithLogitsLoss()\n",
            "\n",
            "    optimizer = optim.AdamW(model.parameters(), lr=learning_rate, weight_decay=l2_strength)\n",
            "\n",
            "    train_dataset = MyDataset(X_train, y_train)\n",
            "    train_dataloader = DataLoader(train_dataset, batch_size=batch_size)\n",
            "    model = train_loop(model, optimizer, loss_fn, train_dataloader)\n",
            "        \n",
            "    return loss_fn(model(X_valid), y_valid)"
         ]
      },
      {
         "cell_type": "code",
         "execution_count": 228,
         "metadata": {},
         "outputs": [
            {
               "name": "stderr",
               "output_type": "stream",
               "text": [
                  "[I 2023-11-19 20:55:01,524] A new study created in memory with name: no-name-a87b7407-4e98-44d4-9bf7-e0ce97a3966f\n",
                  "[I 2023-11-19 20:55:11,155] Trial 0 finished with value: 0.3261481821537018 and parameters: {'N': 26, 'learning_rate': 0.00468667395759567, 'batch_size': 64, 'l2_strength': 0.003956453143662317, 'dropout_prob': 0.14529611402033937}. Best is trial 0 with value: 0.3261481821537018.\n",
                  "[I 2023-11-19 20:55:17,080] Trial 1 finished with value: 0.32127219438552856 and parameters: {'N': 20, 'learning_rate': 0.0038665433051416247, 'batch_size': 128, 'l2_strength': 0.008255221459543069, 'dropout_prob': 0.32175519838928474}. Best is trial 1 with value: 0.32127219438552856.\n",
                  "[I 2023-11-19 20:55:35,036] Trial 2 finished with value: 0.3777807950973511 and parameters: {'N': 73, 'learning_rate': 0.007318158606238667, 'batch_size': 64, 'l2_strength': 0.0041334432183715245, 'dropout_prob': 0.25450482345622766}. Best is trial 1 with value: 0.32127219438552856.\n",
                  "[I 2023-11-19 20:55:54,847] Trial 3 finished with value: 0.7967861294746399 and parameters: {'N': 422, 'learning_rate': 0.006529125229381615, 'batch_size': 128, 'l2_strength': 0.00569509002979399, 'dropout_prob': 0.11056115671045891}. Best is trial 1 with value: 0.32127219438552856.\n",
                  "[I 2023-11-19 20:56:14,357] Trial 4 finished with value: 0.3311440348625183 and parameters: {'N': 27, 'learning_rate': 0.009879799403938835, 'batch_size': 16, 'l2_strength': 0.007423137062164209, 'dropout_prob': 0.2814380771849425}. Best is trial 1 with value: 0.32127219438552856.\n",
                  "[I 2023-11-19 20:56:39,075] Trial 5 finished with value: 0.3252097964286804 and parameters: {'N': 30, 'learning_rate': 0.008561021570480224, 'batch_size': 16, 'l2_strength': 0.005847652800788241, 'dropout_prob': 0.3769183360878084}. Best is trial 1 with value: 0.32127219438552856.\n",
                  "[I 2023-11-19 20:57:49,268] Trial 6 finished with value: 0.3512088358402252 and parameters: {'N': 34, 'learning_rate': 0.00818743204221479, 'batch_size': 16, 'l2_strength': 0.00034636367828517627, 'dropout_prob': 0.49549595047728473}. Best is trial 1 with value: 0.32127219438552856.\n",
                  "[I 2023-11-19 20:58:07,154] Trial 7 finished with value: 0.35800302028656006 and parameters: {'N': 139, 'learning_rate': 0.0023299882366583542, 'batch_size': 64, 'l2_strength': 0.005373496478216362, 'dropout_prob': 0.3722309000103451}. Best is trial 1 with value: 0.32127219438552856.\n",
                  "[I 2023-11-19 20:58:15,248] Trial 8 finished with value: 0.32645899057388306 and parameters: {'N': 26, 'learning_rate': 0.008926385795715802, 'batch_size': 64, 'l2_strength': 0.004347159253576223, 'dropout_prob': 0.29003146653274514}. Best is trial 1 with value: 0.32127219438552856.\n",
                  "[I 2023-11-19 20:58:27,843] Trial 9 finished with value: 0.32810071110725403 and parameters: {'N': 82, 'learning_rate': 0.009723381390629468, 'batch_size': 32, 'l2_strength': 0.0009002027210158362, 'dropout_prob': 0.1485987045612553}. Best is trial 1 with value: 0.32127219438552856.\n",
                  "[I 2023-11-19 20:58:35,699] Trial 10 finished with value: 0.3262653648853302 and parameters: {'N': 16, 'learning_rate': 0.00013800015976962558, 'batch_size': 128, 'l2_strength': 0.009821344415588656, 'dropout_prob': 0.00328382289395579}. Best is trial 1 with value: 0.32127219438552856.\n",
                  "[I 2023-11-19 20:59:19,734] Trial 11 finished with value: 0.3227016031742096 and parameters: {'N': 47, 'learning_rate': 0.0053583294360018165, 'batch_size': 16, 'l2_strength': 0.007984659564072563, 'dropout_prob': 0.3890498276027913}. Best is trial 1 with value: 0.32127219438552856.\n",
                  "[I 2023-11-19 20:59:23,595] Trial 12 finished with value: 0.32511264085769653 and parameters: {'N': 16, 'learning_rate': 0.00477119800342452, 'batch_size': 128, 'l2_strength': 0.00899281071050559, 'dropout_prob': 0.3886814290093718}. Best is trial 1 with value: 0.32127219438552856.\n",
                  "[I 2023-11-19 20:59:36,383] Trial 13 finished with value: 0.32182517647743225 and parameters: {'N': 50, 'learning_rate': 0.00367774991545157, 'batch_size': 32, 'l2_strength': 0.007941158789893134, 'dropout_prob': 0.4542998813311748}. Best is trial 1 with value: 0.32127219438552856.\n",
                  "[I 2023-11-19 21:00:04,959] Trial 14 finished with value: 0.32277923822402954 and parameters: {'N': 52, 'learning_rate': 0.003293409667401473, 'batch_size': 32, 'l2_strength': 0.007589558269315139, 'dropout_prob': 0.47745150280332005}. Best is trial 1 with value: 0.32127219438552856.\n",
                  "[I 2023-11-19 21:00:27,353] Trial 15 finished with value: 0.32211965322494507 and parameters: {'N': 117, 'learning_rate': 0.003148227464408823, 'batch_size': 32, 'l2_strength': 0.009664990265330508, 'dropout_prob': 0.45263776884877593}. Best is trial 1 with value: 0.32127219438552856.\n",
                  "[I 2023-11-19 21:00:33,055] Trial 16 finished with value: 0.3173055052757263 and parameters: {'N': 47, 'learning_rate': 0.001776402763382182, 'batch_size': 128, 'l2_strength': 0.008412048446452087, 'dropout_prob': 0.3340655178559512}. Best is trial 16 with value: 0.3173055052757263.\n",
                  "[I 2023-11-19 21:00:41,010] Trial 17 finished with value: 0.32107099890708923 and parameters: {'N': 20, 'learning_rate': 0.0016452625666980507, 'batch_size': 128, 'l2_strength': 0.008738730329078643, 'dropout_prob': 0.32022241892076325}. Best is trial 16 with value: 0.3173055052757263.\n",
                  "[I 2023-11-19 21:00:49,342] Trial 18 finished with value: 0.3203953802585602 and parameters: {'N': 39, 'learning_rate': 0.001391611024597981, 'batch_size': 128, 'l2_strength': 0.009116566965136477, 'dropout_prob': 0.22181152013077365}. Best is trial 16 with value: 0.3173055052757263.\n",
                  "[I 2023-11-19 21:00:54,054] Trial 19 finished with value: 0.3258053958415985 and parameters: {'N': 41, 'learning_rate': 0.0002617895563462474, 'batch_size': 128, 'l2_strength': 0.0067486321828987665, 'dropout_prob': 0.20286725266865455}. Best is trial 16 with value: 0.3173055052757263.\n",
                  "[I 2023-11-19 21:01:04,519] Trial 20 finished with value: 0.3212120831012726 and parameters: {'N': 63, 'learning_rate': 0.0014904056753714703, 'batch_size': 128, 'l2_strength': 0.00992542434179022, 'dropout_prob': 0.22574605687945487}. Best is trial 16 with value: 0.3173055052757263.\n",
                  "[I 2023-11-19 21:01:10,609] Trial 21 finished with value: 0.3206053078174591 and parameters: {'N': 38, 'learning_rate': 0.0013880184840907213, 'batch_size': 128, 'l2_strength': 0.008823941632848671, 'dropout_prob': 0.3229891144144827}. Best is trial 16 with value: 0.3173055052757263.\n",
                  "[I 2023-11-19 21:01:19,102] Trial 22 finished with value: 0.31987857818603516 and parameters: {'N': 38, 'learning_rate': 0.0010681437834984815, 'batch_size': 128, 'l2_strength': 0.009016334251161495, 'dropout_prob': 0.322378821040216}. Best is trial 16 with value: 0.3173055052757263.\n",
                  "[I 2023-11-19 21:01:26,818] Trial 23 finished with value: 0.3170545697212219 and parameters: {'N': 57, 'learning_rate': 0.0006617118863453198, 'batch_size': 128, 'l2_strength': 0.009245950253294898, 'dropout_prob': 0.2433342027501209}. Best is trial 23 with value: 0.3170545697212219.\n",
                  "[I 2023-11-19 21:01:35,193] Trial 24 finished with value: 0.32153236865997314 and parameters: {'N': 62, 'learning_rate': 0.0006419485107000819, 'batch_size': 128, 'l2_strength': 0.006892896877199805, 'dropout_prob': 0.26706090923325465}. Best is trial 23 with value: 0.3170545697212219.\n",
                  "[I 2023-11-19 21:01:43,316] Trial 25 finished with value: 0.3240777254104614 and parameters: {'N': 92, 'learning_rate': 0.0023745461719498514, 'batch_size': 128, 'l2_strength': 0.008500442651410168, 'dropout_prob': 0.3359328413012136}. Best is trial 23 with value: 0.3170545697212219.\n",
                  "[I 2023-11-19 21:01:51,028] Trial 26 finished with value: 0.31950464844703674 and parameters: {'N': 53, 'learning_rate': 0.0007521443897860964, 'batch_size': 128, 'l2_strength': 0.009230180667267345, 'dropout_prob': 0.4263034634266678}. Best is trial 23 with value: 0.3170545697212219.\n",
                  "[I 2023-11-19 21:01:59,476] Trial 27 finished with value: 0.33520185947418213 and parameters: {'N': 53, 'learning_rate': 4.6608062597546136e-05, 'batch_size': 128, 'l2_strength': 0.009861356348371373, 'dropout_prob': 0.42348280460916704}. Best is trial 23 with value: 0.3170545697212219.\n",
                  "[I 2023-11-19 21:02:07,408] Trial 28 finished with value: 0.3176051676273346 and parameters: {'N': 105, 'learning_rate': 0.0008923483105590131, 'batch_size': 128, 'l2_strength': 0.007077859751526935, 'dropout_prob': 0.4282740307106042}. Best is trial 23 with value: 0.3170545697212219.\n",
                  "[I 2023-11-19 21:02:25,393] Trial 29 finished with value: 0.33455806970596313 and parameters: {'N': 144, 'learning_rate': 0.002025539893701436, 'batch_size': 64, 'l2_strength': 0.006543155231302748, 'dropout_prob': 0.36640937279776403}. Best is trial 23 with value: 0.3170545697212219.\n"
               ]
            },
            {
               "name": "stdout",
               "output_type": "stream",
               "text": [
                  "Najlepsze hiperparametry (TPE): {'N': 57, 'learning_rate': 0.0006617118863453198, 'batch_size': 128, 'l2_strength': 0.009245950253294898, 'dropout_prob': 0.2433342027501209}\n",
                  "Najlepsza wartość metryki (TPE): 0.3170545697212219\n"
               ]
            }
         ],
         "source": [
            "study_tpe = optuna.create_study(direction='minimize', sampler=optuna.samplers.TPESampler())\n",
            "study_tpe.optimize(objective, n_trials=30, n_jobs=1)\n",
            "\n",
            "print(\"Najlepsze hiperparametry (TPE):\", study_tpe.best_params)\n",
            "print(\"Najlepsza wartość metryki (TPE):\", study_tpe.best_value)"
         ]
      },
      {
         "cell_type": "code",
         "execution_count": 229,
         "metadata": {},
         "outputs": [
            {
               "name": "stdout",
               "output_type": "stream",
               "text": [
                  "AUROC: 90.80%\n",
                  "F1: 70.16%\n",
                  "Precision: 63.97%\n",
                  "Recall: 77.68%\n"
               ]
            }
         ],
         "source": [
            "model = MLPModel(\n",
            "    input_size=X_train.shape[1],\n",
            "    N = study_tpe.best_params['N'],\n",
            "    dropout_p= study_tpe.best_params['dropout_prob']\n",
            ")\n",
            "\n",
            "optimizer = optim.AdamW(model.parameters(), lr=study_tpe.best_params['learning_rate'], weight_decay=study_tpe.best_params['l2_strength'])\n",
            "train_dataset = MyDataset(X_train, y_train)\n",
            "train_dataloader = DataLoader(train_dataset, batch_size=study_tpe.best_params['batch_size'])\n",
            "loss_fn = torch.nn.BCEWithLogitsLoss()\n",
            "\n",
            "best_model = train_loop(model, optimizer, loss_fn, train_dataloader)\n",
            "test_metrics = evaluate_model(best_model, X_test, y_test, loss_fn)\n",
            "\n",
            "print(f\"AUROC: {100 * test_metrics['AUROC']:.2f}%\")\n",
            "print(f\"F1: {100 * test_metrics['F1-score']:.2f}%\")\n",
            "print(f\"Precision: {100 * test_metrics['precision']:.2f}%\")\n",
            "print(f\"Recall: {100 * test_metrics['recall']:.2f}%\")"
         ]
      },
      {
         "cell_type": "code",
         "execution_count": 216,
         "metadata": {},
         "outputs": [
            {
               "name": "stderr",
               "output_type": "stream",
               "text": [
                  "[I 2023-11-19 20:23:51,209] A new study created in memory with name: no-name-0fac8b5c-6a03-40e3-abeb-df3ce820c59c\n",
                  "[I 2023-11-19 20:23:58,618] Trial 0 finished with value: 0.3256344497203827 and parameters: {'N': 20, 'learning_rate': 0.0063898523800252445, 'batch_size': 128, 'l2_strength': 2.635569873435108e-05, 'dropout_prob': 0.30616721292781335}. Best is trial 0 with value: 0.3256344497203827.\n",
                  "[I 2023-11-19 20:24:02,451] Trial 1 finished with value: 0.32477545738220215 and parameters: {'N': 18, 'learning_rate': 0.00708075915000374, 'batch_size': 64, 'l2_strength': 0.009439406672533728, 'dropout_prob': 0.42721160527648405}. Best is trial 1 with value: 0.32477545738220215.\n",
                  "[I 2023-11-19 20:24:42,659] Trial 2 finished with value: 0.3549679219722748 and parameters: {'N': 111, 'learning_rate': 0.007894871641264983, 'batch_size': 16, 'l2_strength': 0.009597773916502753, 'dropout_prob': 0.04407889757437472}. Best is trial 1 with value: 0.32477545738220215.\n",
                  "[I 2023-11-19 20:25:06,109] Trial 3 finished with value: 0.35044214129447937 and parameters: {'N': 35, 'learning_rate': 0.0059503227121743595, 'batch_size': 32, 'l2_strength': 0.00042383658682668406, 'dropout_prob': 0.21280777033204012}. Best is trial 1 with value: 0.32477545738220215.\n",
                  "[I 2023-11-19 20:25:38,232] Trial 4 finished with value: 0.4417349398136139 and parameters: {'N': 67, 'learning_rate': 0.0014560936084595016, 'batch_size': 32, 'l2_strength': 0.00043408395598775243, 'dropout_prob': 0.04361555640119563}. Best is trial 1 with value: 0.32477545738220215.\n",
                  "[I 2023-11-19 20:25:57,846] Trial 5 finished with value: 0.4712803363800049 and parameters: {'N': 282, 'learning_rate': 0.0006597305436555905, 'batch_size': 128, 'l2_strength': 0.00878251316484016, 'dropout_prob': 0.14469670641737814}. Best is trial 1 with value: 0.32477545738220215.\n",
                  "[I 2023-11-19 20:26:08,223] Trial 6 finished with value: 0.33177635073661804 and parameters: {'N': 266, 'learning_rate': 0.009422313985679866, 'batch_size': 32, 'l2_strength': 0.0037456749097654145, 'dropout_prob': 0.23932713533397565}. Best is trial 1 with value: 0.32477545738220215.\n",
                  "[I 2023-11-19 20:26:15,290] Trial 7 finished with value: 0.3243075907230377 and parameters: {'N': 28, 'learning_rate': 0.00728459819902668, 'batch_size': 64, 'l2_strength': 0.009597348461492607, 'dropout_prob': 0.45775407403733076}. Best is trial 7 with value: 0.3243075907230377.\n",
                  "[I 2023-11-19 20:26:20,192] Trial 8 finished with value: 0.3152652382850647 and parameters: {'N': 62, 'learning_rate': 0.001958448553474955, 'batch_size': 128, 'l2_strength': 0.004497514773147583, 'dropout_prob': 0.37108416825729007}. Best is trial 8 with value: 0.3152652382850647.\n",
                  "[I 2023-11-19 20:26:39,903] Trial 9 finished with value: 0.4209005534648895 and parameters: {'N': 321, 'learning_rate': 0.004628474657703086, 'batch_size': 64, 'l2_strength': 0.0005814858876115381, 'dropout_prob': 0.4308607105993444}. Best is trial 8 with value: 0.3152652382850647.\n",
                  "[I 2023-11-19 20:26:44,555] Trial 10 finished with value: 0.3192777931690216 and parameters: {'N': 34, 'learning_rate': 0.00026699642585547505, 'batch_size': 128, 'l2_strength': 0.003519497256910357, 'dropout_prob': 0.23149382923027317}. Best is trial 8 with value: 0.3152652382850647.\n",
                  "[I 2023-11-19 20:27:13,379] Trial 11 finished with value: 0.3886139392852783 and parameters: {'N': 486, 'learning_rate': 0.00625738022449789, 'batch_size': 32, 'l2_strength': 0.006217212626950869, 'dropout_prob': 0.3913271349142934}. Best is trial 8 with value: 0.3152652382850647.\n",
                  "[I 2023-11-19 20:27:22,523] Trial 12 finished with value: 0.3316608667373657 and parameters: {'N': 133, 'learning_rate': 0.006705595703465563, 'batch_size': 64, 'l2_strength': 0.004633794843369007, 'dropout_prob': 0.35852392365799274}. Best is trial 8 with value: 0.3152652382850647.\n",
                  "[I 2023-11-19 20:27:32,705] Trial 13 finished with value: 0.31997519731521606 and parameters: {'N': 29, 'learning_rate': 0.00448100403840821, 'batch_size': 32, 'l2_strength': 0.0036420171595279043, 'dropout_prob': 0.41131634393463}. Best is trial 8 with value: 0.3152652382850647.\n",
                  "[I 2023-11-19 20:27:50,073] Trial 14 finished with value: 0.5161471962928772 and parameters: {'N': 417, 'learning_rate': 0.007883750097959503, 'batch_size': 64, 'l2_strength': 0.007400118596106199, 'dropout_prob': 0.06979175671152965}. Best is trial 8 with value: 0.3152652382850647.\n",
                  "[I 2023-11-19 20:28:20,525] Trial 15 finished with value: 0.3481251895427704 and parameters: {'N': 54, 'learning_rate': 0.007627902081459004, 'batch_size': 16, 'l2_strength': 0.007212971400949429, 'dropout_prob': 0.03464239084609455}. Best is trial 8 with value: 0.3152652382850647.\n",
                  "[I 2023-11-19 20:28:36,330] Trial 16 finished with value: 0.37012773752212524 and parameters: {'N': 193, 'learning_rate': 0.00942869092146137, 'batch_size': 64, 'l2_strength': 0.008181145735363968, 'dropout_prob': 0.35391212751184625}. Best is trial 8 with value: 0.3152652382850647.\n",
                  "[I 2023-11-19 20:28:51,034] Trial 17 finished with value: 0.315822035074234 and parameters: {'N': 112, 'learning_rate': 0.00010685239200764515, 'batch_size': 64, 'l2_strength': 0.004612014855964123, 'dropout_prob': 0.01523080354327555}. Best is trial 8 with value: 0.3152652382850647.\n",
                  "[I 2023-11-19 20:29:12,072] Trial 18 finished with value: 0.8023689389228821 and parameters: {'N': 361, 'learning_rate': 0.0015354724204174777, 'batch_size': 128, 'l2_strength': 0.003673506289960039, 'dropout_prob': 0.14288243049467597}. Best is trial 8 with value: 0.3152652382850647.\n",
                  "[I 2023-11-19 20:29:19,474] Trial 19 finished with value: 0.32380494475364685 and parameters: {'N': 51, 'learning_rate': 0.00520883260593051, 'batch_size': 128, 'l2_strength': 0.004572952926123448, 'dropout_prob': 0.41096538862349286}. Best is trial 8 with value: 0.3152652382850647.\n",
                  "[I 2023-11-19 20:29:44,528] Trial 20 finished with value: 0.3646480441093445 and parameters: {'N': 128, 'learning_rate': 0.004257468879359072, 'batch_size': 16, 'l2_strength': 0.004851284741968159, 'dropout_prob': 0.03772871952697043}. Best is trial 8 with value: 0.3152652382850647.\n",
                  "[I 2023-11-19 20:29:49,215] Trial 21 finished with value: 0.32384347915649414 and parameters: {'N': 23, 'learning_rate': 0.006599195799105494, 'batch_size': 128, 'l2_strength': 0.0006029496376368164, 'dropout_prob': 0.3758323196633267}. Best is trial 8 with value: 0.3152652382850647.\n",
                  "[I 2023-11-19 20:30:17,231] Trial 22 finished with value: 0.32339203357696533 and parameters: {'N': 21, 'learning_rate': 0.004053563548989667, 'batch_size': 16, 'l2_strength': 0.00438497306504535, 'dropout_prob': 0.17973261403253316}. Best is trial 8 with value: 0.3152652382850647.\n",
                  "[I 2023-11-19 20:30:24,687] Trial 23 finished with value: 0.4391118884086609 and parameters: {'N': 242, 'learning_rate': 0.009341551435664308, 'batch_size': 128, 'l2_strength': 0.005435412392474344, 'dropout_prob': 0.13832353398204356}. Best is trial 8 with value: 0.3152652382850647.\n",
                  "[I 2023-11-19 20:30:49,219] Trial 24 finished with value: 0.36483508348464966 and parameters: {'N': 457, 'learning_rate': 0.009085052887503811, 'batch_size': 32, 'l2_strength': 0.004312355133210309, 'dropout_prob': 0.2799135369652418}. Best is trial 8 with value: 0.3152652382850647.\n",
                  "[I 2023-11-19 20:30:53,646] Trial 25 finished with value: 0.3178551495075226 and parameters: {'N': 22, 'learning_rate': 0.0012859771778196668, 'batch_size': 64, 'l2_strength': 0.00022471604788921613, 'dropout_prob': 0.039410525328476054}. Best is trial 8 with value: 0.3152652382850647.\n",
                  "[I 2023-11-19 20:31:06,674] Trial 26 finished with value: 0.31982070207595825 and parameters: {'N': 64, 'learning_rate': 0.0011383750879539222, 'batch_size': 16, 'l2_strength': 0.005625747854781024, 'dropout_prob': 0.31428926735596296}. Best is trial 8 with value: 0.3152652382850647.\n",
                  "[I 2023-11-19 20:31:33,527] Trial 27 finished with value: 0.3567545413970947 and parameters: {'N': 257, 'learning_rate': 0.009470587074227235, 'batch_size': 16, 'l2_strength': 0.0034783733125233465, 'dropout_prob': 0.38239684265005847}. Best is trial 8 with value: 0.3152652382850647.\n",
                  "[I 2023-11-19 20:31:46,539] Trial 28 finished with value: 0.3402658700942993 and parameters: {'N': 118, 'learning_rate': 0.0008464541023648738, 'batch_size': 64, 'l2_strength': 0.0022139339057939966, 'dropout_prob': 0.21089805703613668}. Best is trial 8 with value: 0.3152652382850647.\n",
                  "[I 2023-11-19 20:31:59,064] Trial 29 finished with value: 0.32753244042396545 and parameters: {'N': 16, 'learning_rate': 0.008230337769831448, 'batch_size': 16, 'l2_strength': 0.005210326273263605, 'dropout_prob': 0.3886278633118381}. Best is trial 8 with value: 0.3152652382850647.\n"
               ]
            },
            {
               "name": "stdout",
               "output_type": "stream",
               "text": [
                  "Najlepsze hiperparametry (RandomSampler): {'N': 62, 'learning_rate': 0.001958448553474955, 'batch_size': 128, 'l2_strength': 0.004497514773147583, 'dropout_prob': 0.37108416825729007}\n",
                  "Najlepsza wartość metryki (RandomSampler): 0.3152652382850647\n"
               ]
            }
         ],
         "source": [
            "study_tpe = optuna.create_study(direction='minimize', sampler=optuna.samplers.RandomSampler())\n",
            "study_tpe.optimize(objective, n_trials=30, n_jobs=1)\n",
            "\n",
            "print(\"Najlepsze hiperparametry (RandomSampler):\", study_tpe.best_params)\n",
            "print(\"Najlepsza wartość metryki (RandomSampler):\", study_tpe.best_value)"
         ]
      },
      {
         "cell_type": "code",
         "execution_count": 217,
         "metadata": {},
         "outputs": [
            {
               "name": "stdout",
               "output_type": "stream",
               "text": [
                  "AUROC: 90.33%\n",
                  "F1: 68.94%\n",
                  "Precision: 66.08%\n",
                  "Recall: 72.07%\n"
               ]
            }
         ],
         "source": [
            "model = MLPModel(\n",
            "    input_size=X_train.shape[1],\n",
            "    N = study_tpe.best_params['N'],\n",
            "    dropout_p= study_tpe.best_params['dropout_prob']\n",
            ")\n",
            "\n",
            "optimizer = optim.AdamW(model.parameters(), lr=study_tpe.best_params['learning_rate'], weight_decay=study_tpe.best_params['l2_strength'])\n",
            "train_dataset = MyDataset(X_train, y_train)\n",
            "train_dataloader = DataLoader(train_dataset, batch_size=study_tpe.best_params['batch_size'])\n",
            "loss_fn = torch.nn.BCEWithLogitsLoss()\n",
            "\n",
            "best_model = train_loop(model, optimizer, loss_fn, train_dataloader)\n",
            "test_metrics = evaluate_model(best_model, X_test, y_test, loss_fn)\n",
            "\n",
            "print(f\"AUROC: {100 * test_metrics['AUROC']:.2f}%\")\n",
            "print(f\"F1: {100 * test_metrics['F1-score']:.2f}%\")\n",
            "print(f\"Precision: {100 * test_metrics['precision']:.2f}%\")\n",
            "print(f\"Recall: {100 * test_metrics['recall']:.2f}%\")"
         ]
      }
   ],
   "metadata": {
      "colab": {
         "collapsed_sections": [],
         "provenance": []
      },
      "kernelspec": {
         "display_name": "PSI",
         "language": "python",
         "name": "psi"
      },
      "language_info": {
         "codemirror_mode": {
            "name": "ipython",
            "version": 3
         },
         "file_extension": ".py",
         "mimetype": "text/x-python",
         "name": "python",
         "nbconvert_exporter": "python",
         "pygments_lexer": "ipython3",
         "version": "3.10.13"
      },
      "vscode": {
         "interpreter": {
            "hash": "a5d7af91182035c53be6efb3f9b18ffc3e259c9c524705249407647c970de949"
         }
      }
   },
   "nbformat": 4,
   "nbformat_minor": 1
}
